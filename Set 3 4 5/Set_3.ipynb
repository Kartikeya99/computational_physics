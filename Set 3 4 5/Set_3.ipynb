{
 "cells": [
  {
   "cell_type": "markdown",
   "metadata": {
    "colab_type": "text",
    "id": "view-in-github"
   },
   "source": [
    "[View in Colaboratory](https://colab.research.google.com/github/nishi1612/SC374-Computational-and-Numerical-Methods/blob/master/Set_3.ipynb)"
   ]
  },
  {
   "cell_type": "markdown",
   "metadata": {
    "colab_type": "text",
    "id": "RXOOmvsIoV1L"
   },
   "source": [
    "Set 3\n",
    "---"
   ]
  },
  {
   "cell_type": "markdown",
   "metadata": {
    "colab_type": "text",
    "id": "0VtNYxMPoiuG"
   },
   "source": [
    "**Finding roots of polynomial by bisection method**"
   ]
  },
  {
   "cell_type": "code",
   "execution_count": 2,
   "metadata": {
    "colab": {},
    "colab_type": "code",
    "id": "XtVcKtS-7WoC"
   },
   "outputs": [],
   "source": [
    "import pandas as pd\n",
    "import numpy as np\n",
    "import matplotlib.pyplot as plt\n",
    "import math\n",
    "#from google.colab import files"
   ]
  },
  {
   "cell_type": "code",
   "execution_count": 3,
   "metadata": {
    "colab": {},
    "colab_type": "code",
    "id": "I_L1lSGC7foa"
   },
   "outputs": [],
   "source": [
    "def iterations(n, arr , i):\n",
    "  plt.plot(range(n),arr)\n",
    "  plt.xlabel('No. of iterations')\n",
    "  plt.ylabel('Value of c')\n",
    "  plt.grid(True)\n",
    "  plt.savefig('Iteration {}.png'.format(i))\n",
    "  plt.show()"
   ]
  },
  {
   "cell_type": "code",
   "execution_count": 4,
   "metadata": {
    "colab": {},
    "colab_type": "code",
    "id": "LcJRt78qGr8g"
   },
   "outputs": [],
   "source": [
    "def graph(i):\n",
    "  plt.xlabel('x')\n",
    "  plt.ylabel('y')\n",
    "  plt.grid(True)\n",
    "  plt.legend(loc='upper right')\n",
    "  plt.savefig(\"Graph\" + str(i) + \".png\")\n",
    "  #files.download(\"Graph\" + str(i) + \".png\")\n",
    "  plt.show()"
   ]
  },
  {
   "cell_type": "code",
   "execution_count": 5,
   "metadata": {
    "colab": {},
    "colab_type": "code",
    "id": "ldEl0WHPHyTp"
   },
   "outputs": [],
   "source": [
    "def bissection( a,b,epsilon,k):\n",
    "    table = pd.DataFrame(columns=['a','b','c','b-c','f(a)*f(c)','Assign'])\n",
    "    c = (a+b)/2;\n",
    "    dist = b-c;\n",
    "    i = 0\n",
    "    arr = []\n",
    "    while(dist>epsilon):\n",
    "        ans_a = func(a,k);\n",
    "        ans_b = func(b,k);\n",
    "        ans_c = func(c,k);\n",
    "        ans = \"\"\n",
    "        if(ans_a*ans_c < 0):\n",
    "            b=c;\n",
    "            ans = \"b=c\"\n",
    "        else:\n",
    "            a=c;\n",
    "            ans = \"a=c\";\n",
    "        table.loc[i] = [a,b,c,dist,ans_a*ans_c,ans]\n",
    "        arr.append(c)\n",
    "        i = i+1\n",
    "        c = (a+b) / 2\n",
    "        dist = b-c \n",
    "    return (a+b)/2 ,i , arr , table;"
   ]
  },
  {
   "cell_type": "code",
   "execution_count": 6,
   "metadata": {
    "colab": {},
    "colab_type": "code",
    "id": "DL_1Y1pU7iX8"
   },
   "outputs": [],
   "source": [
    "def func(x,k):\n",
    "    if k==1:\n",
    "        return x**6 - x - 1;\n",
    "    elif k==2:\n",
    "        return x**3 - x**2 - x - 1;\n",
    "    elif k==3:\n",
    "        return x - 1 - 0.3*math.cos(x);\n",
    "    elif k==4:\n",
    "        return 0.5 + math.sin(x) - math.cos(x);\n",
    "    elif k==5:\n",
    "        return x - math.e**(-x);\n",
    "    elif k==6:\n",
    "        return math.e**(-x) - math.sin(x);\n",
    "    elif k==7:\n",
    "        return x**3 - 2*x - 2;\n",
    "    elif k==8:\n",
    "        return x**4 - x - 1;\n",
    "    elif k==9:\n",
    "      return math.e**(x) - x - 2;\n",
    "    elif k==10:\n",
    "      return 1- x + math.sin(x);\n",
    "    elif k==11:\n",
    "      return x - math.tan(x);"
   ]
  },
  {
   "cell_type": "code",
   "execution_count": 13,
   "metadata": {
    "colab": {
     "base_uri": "https://localhost:8080/",
     "height": 705
    },
    "colab_type": "code",
    "id": "vtfO6YYg7k9M",
    "outputId": "7bfe4611-e4d4-4e1a-9f1a-2da1d66cf05b"
   },
   "outputs": [
    {
     "data": {
      "text/plain": [
       "(-1, 1)"
      ]
     },
     "execution_count": 13,
     "metadata": {},
     "output_type": "execute_result"
    },
    {
     "data": {
      "image/png": "[encoded data removed]",
      "text/plain": [
       "<Figure size 432x288 with 1 Axes>"
      ]
     },
     "metadata": {
      "needs_background": "light"
     },
     "output_type": "display_data"
    }
   ],
   "source": [
    "x = np.arange(-20,30,0.001)\n",
    "#plt.plot(x,x**6,label='$x^6$')\n",
    "#plt.plot(x,x+1,label=\"x+1\")\n",
    "#graph('1_1')\n",
    "plt.plot(x, x**6-x-1,label='$x^6$ - x - 1')\n",
    "plt.ylim([-0.01, 0.01])\n",
    "plt.xlim([-1, 1])\n",
    "#graph('1_2')"
   ]
  },
  {
   "cell_type": "code",
   "execution_count": 117,
   "metadata": {
    "colab": {
     "base_uri": "https://localhost:8080/",
     "height": 706
    },
    "colab_type": "code",
    "id": "mqlNNC3c7nLW",
    "outputId": "44fe846e-e0e7-4e83-fbbd-eb5aea91f417"
   },
   "outputs": [
    {
     "data": {
      "image/png": "[encoded data removed]",
      "text/plain": [
       "<Figure size 432x288 with 1 Axes>"
      ]
     },
     "metadata": {
      "needs_background": "light"
     },
     "output_type": "display_data"
    },
    {
     "name": "stdout",
     "output_type": "stream",
     "text": [
      "1.1337890625\n",
      "-0.009597993286452056\n"
     ]
    },
    {
     "data": {
      "text/html": [
       "<div>\n",
       "<style scoped>\n",
       "    .dataframe tbody tr th:only-of-type {\n",
       "        vertical-align: middle;\n",
       "    }\n",
       "\n",
       "    .dataframe tbody tr th {\n",
       "        vertical-align: top;\n",
       "    }\n",
       "\n",
       "    .dataframe thead th {\n",
       "        text-align: right;\n",
       "    }\n",
       "</style>\n",
       "<table border=\"1\" class=\"dataframe\">\n",
       "  <thead>\n",
       "    <tr style=\"text-align: right;\">\n",
       "      <th></th>\n",
       "      <th>a</th>\n",
       "      <th>b</th>\n",
       "      <th>c</th>\n",
       "      <th>b-c</th>\n",
       "      <th>f(a)*f(c)</th>\n",
       "      <th>Assign</th>\n",
       "    </tr>\n",
       "  </thead>\n",
       "  <tbody>\n",
       "    <tr>\n",
       "      <th>0</th>\n",
       "      <td>1</td>\n",
       "      <td>1.500000</td>\n",
       "      <td>1.500000</td>\n",
       "      <td>0.500000</td>\n",
       "      <td>-8.890625</td>\n",
       "      <td>b=c</td>\n",
       "    </tr>\n",
       "    <tr>\n",
       "      <th>1</th>\n",
       "      <td>1</td>\n",
       "      <td>1.250000</td>\n",
       "      <td>1.250000</td>\n",
       "      <td>0.250000</td>\n",
       "      <td>-1.564697</td>\n",
       "      <td>b=c</td>\n",
       "    </tr>\n",
       "    <tr>\n",
       "      <th>2</th>\n",
       "      <td>1.125</td>\n",
       "      <td>1.250000</td>\n",
       "      <td>1.125000</td>\n",
       "      <td>0.125000</td>\n",
       "      <td>0.097713</td>\n",
       "      <td>a=c</td>\n",
       "    </tr>\n",
       "    <tr>\n",
       "      <th>3</th>\n",
       "      <td>1.125</td>\n",
       "      <td>1.187500</td>\n",
       "      <td>1.187500</td>\n",
       "      <td>0.062500</td>\n",
       "      <td>-0.060255</td>\n",
       "      <td>b=c</td>\n",
       "    </tr>\n",
       "    <tr>\n",
       "      <th>4</th>\n",
       "      <td>1.125</td>\n",
       "      <td>1.156250</td>\n",
       "      <td>1.156250</td>\n",
       "      <td>0.031250</td>\n",
       "      <td>-0.022794</td>\n",
       "      <td>b=c</td>\n",
       "    </tr>\n",
       "    <tr>\n",
       "      <th>5</th>\n",
       "      <td>1.125</td>\n",
       "      <td>1.140625</td>\n",
       "      <td>1.140625</td>\n",
       "      <td>0.015625</td>\n",
       "      <td>-0.006017</td>\n",
       "      <td>b=c</td>\n",
       "    </tr>\n",
       "    <tr>\n",
       "      <th>6</th>\n",
       "      <td>1.13281</td>\n",
       "      <td>1.140625</td>\n",
       "      <td>1.132812</td>\n",
       "      <td>0.007812</td>\n",
       "      <td>0.001913</td>\n",
       "      <td>a=c</td>\n",
       "    </tr>\n",
       "    <tr>\n",
       "      <th>7</th>\n",
       "      <td>1.13281</td>\n",
       "      <td>1.136719</td>\n",
       "      <td>1.136719</td>\n",
       "      <td>0.003906</td>\n",
       "      <td>-0.000404</td>\n",
       "      <td>b=c</td>\n",
       "    </tr>\n",
       "    <tr>\n",
       "      <th>8</th>\n",
       "      <td>1.13281</td>\n",
       "      <td>1.134766</td>\n",
       "      <td>1.134766</td>\n",
       "      <td>0.001953</td>\n",
       "      <td>-0.000008</td>\n",
       "      <td>b=c</td>\n",
       "    </tr>\n",
       "  </tbody>\n",
       "</table>\n",
       "</div>"
      ],
      "text/plain": [
       "         a         b         c       b-c  f(a)*f(c) Assign\n",
       "0        1  1.500000  1.500000  0.500000  -8.890625    b=c\n",
       "1        1  1.250000  1.250000  0.250000  -1.564697    b=c\n",
       "2    1.125  1.250000  1.125000  0.125000   0.097713    a=c\n",
       "3    1.125  1.187500  1.187500  0.062500  -0.060255    b=c\n",
       "4    1.125  1.156250  1.156250  0.031250  -0.022794    b=c\n",
       "5    1.125  1.140625  1.140625  0.015625  -0.006017    b=c\n",
       "6  1.13281  1.140625  1.132812  0.007812   0.001913    a=c\n",
       "7  1.13281  1.136719  1.136719  0.003906  -0.000404    b=c\n",
       "8  1.13281  1.134766  1.134766  0.001953  -0.000008    b=c"
      ]
     },
     "execution_count": 117,
     "metadata": {},
     "output_type": "execute_result"
    }
   ],
   "source": [
    "a , n , arr , table = bissection(1,2,0.001,1)\n",
    "iterations(n,arr,'1_1')\n",
    "print(str(a) + \"\\n\" + str(func(a,1)))\n",
    "table"
   ]
  },
  {
   "cell_type": "code",
   "execution_count": 118,
   "metadata": {
    "colab": {
     "base_uri": "https://localhost:8080/",
     "height": 706
    },
    "colab_type": "code",
    "id": "1p7rNVaXNX_3",
    "outputId": "45cb850b-70c1-4db0-aaa2-35acab12ac41"
   },
   "outputs": [
    {
     "data": {
      "image/png": "[encoded data removed]",
      "text/plain": [
       "<Figure size 432x288 with 1 Axes>"
      ]
     },
     "metadata": {
      "needs_background": "light"
     },
     "output_type": "display_data"
    },
    {
     "name": "stdout",
     "output_type": "stream",
     "text": [
      "-0.7783203125\n",
      "0.0006258027456993442\n"
     ]
    },
    {
     "data": {
      "text/html": [
       "<div>\n",
       "<style scoped>\n",
       "    .dataframe tbody tr th:only-of-type {\n",
       "        vertical-align: middle;\n",
       "    }\n",
       "\n",
       "    .dataframe tbody tr th {\n",
       "        vertical-align: top;\n",
       "    }\n",
       "\n",
       "    .dataframe thead th {\n",
       "        text-align: right;\n",
       "    }\n",
       "</style>\n",
       "<table border=\"1\" class=\"dataframe\">\n",
       "  <thead>\n",
       "    <tr style=\"text-align: right;\">\n",
       "      <th></th>\n",
       "      <th>a</th>\n",
       "      <th>b</th>\n",
       "      <th>c</th>\n",
       "      <th>b-c</th>\n",
       "      <th>f(a)*f(c)</th>\n",
       "      <th>Assign</th>\n",
       "    </tr>\n",
       "  </thead>\n",
       "  <tbody>\n",
       "    <tr>\n",
       "      <th>0</th>\n",
       "      <td>-1</td>\n",
       "      <td>-0.500000</td>\n",
       "      <td>-0.500000</td>\n",
       "      <td>0.500000</td>\n",
       "      <td>-0.484375</td>\n",
       "      <td>b=c</td>\n",
       "    </tr>\n",
       "    <tr>\n",
       "      <th>1</th>\n",
       "      <td>-1</td>\n",
       "      <td>-0.750000</td>\n",
       "      <td>-0.750000</td>\n",
       "      <td>0.250000</td>\n",
       "      <td>-0.072021</td>\n",
       "      <td>b=c</td>\n",
       "    </tr>\n",
       "    <tr>\n",
       "      <th>2</th>\n",
       "      <td>-0.875</td>\n",
       "      <td>-0.750000</td>\n",
       "      <td>-0.875000</td>\n",
       "      <td>0.125000</td>\n",
       "      <td>0.323795</td>\n",
       "      <td>a=c</td>\n",
       "    </tr>\n",
       "    <tr>\n",
       "      <th>3</th>\n",
       "      <td>-0.8125</td>\n",
       "      <td>-0.750000</td>\n",
       "      <td>-0.812500</td>\n",
       "      <td>0.062500</td>\n",
       "      <td>0.032444</td>\n",
       "      <td>a=c</td>\n",
       "    </tr>\n",
       "    <tr>\n",
       "      <th>4</th>\n",
       "      <td>-0.78125</td>\n",
       "      <td>-0.750000</td>\n",
       "      <td>-0.781250</td>\n",
       "      <td>0.031250</td>\n",
       "      <td>0.000864</td>\n",
       "      <td>a=c</td>\n",
       "    </tr>\n",
       "    <tr>\n",
       "      <th>5</th>\n",
       "      <td>-0.78125</td>\n",
       "      <td>-0.765625</td>\n",
       "      <td>-0.765625</td>\n",
       "      <td>0.015625</td>\n",
       "      <td>-0.000284</td>\n",
       "      <td>b=c</td>\n",
       "    </tr>\n",
       "    <tr>\n",
       "      <th>6</th>\n",
       "      <td>-0.78125</td>\n",
       "      <td>-0.773438</td>\n",
       "      <td>-0.773438</td>\n",
       "      <td>0.007812</td>\n",
       "      <td>-0.000108</td>\n",
       "      <td>b=c</td>\n",
       "    </tr>\n",
       "    <tr>\n",
       "      <th>7</th>\n",
       "      <td>-0.78125</td>\n",
       "      <td>-0.777344</td>\n",
       "      <td>-0.777344</td>\n",
       "      <td>0.003906</td>\n",
       "      <td>-0.000017</td>\n",
       "      <td>b=c</td>\n",
       "    </tr>\n",
       "    <tr>\n",
       "      <th>8</th>\n",
       "      <td>-0.779297</td>\n",
       "      <td>-0.777344</td>\n",
       "      <td>-0.779297</td>\n",
       "      <td>0.001953</td>\n",
       "      <td>0.000028</td>\n",
       "      <td>a=c</td>\n",
       "    </tr>\n",
       "  </tbody>\n",
       "</table>\n",
       "</div>"
      ],
      "text/plain": [
       "          a         b         c       b-c  f(a)*f(c) Assign\n",
       "0        -1 -0.500000 -0.500000  0.500000  -0.484375    b=c\n",
       "1        -1 -0.750000 -0.750000  0.250000  -0.072021    b=c\n",
       "2    -0.875 -0.750000 -0.875000  0.125000   0.323795    a=c\n",
       "3   -0.8125 -0.750000 -0.812500  0.062500   0.032444    a=c\n",
       "4  -0.78125 -0.750000 -0.781250  0.031250   0.000864    a=c\n",
       "5  -0.78125 -0.765625 -0.765625  0.015625  -0.000284    b=c\n",
       "6  -0.78125 -0.773438 -0.773438  0.007812  -0.000108    b=c\n",
       "7  -0.78125 -0.777344 -0.777344  0.003906  -0.000017    b=c\n",
       "8 -0.779297 -0.777344 -0.779297  0.001953   0.000028    a=c"
      ]
     },
     "execution_count": 118,
     "metadata": {},
     "output_type": "execute_result"
    }
   ],
   "source": [
    "b , n , arr , table = bissection(-1,0,0.001,1)\n",
    "iterations(n,arr,'1_2')\n",
    "print(str(b) + \"\\n\" + str(func(b,1)))\n",
    "table"
   ]
  },
  {
   "cell_type": "code",
   "execution_count": 119,
   "metadata": {
    "colab": {
     "base_uri": "https://localhost:8080/",
     "height": 706
    },
    "colab_type": "code",
    "id": "sMZjvp5P7pRU",
    "outputId": "92fb914e-8a2f-495f-f545-3d3bdc6eb590"
   },
   "outputs": [
    {
     "data": {
      "image/png": "[encoded data removed]",
      "text/plain": [
       "<Figure size 432x288 with 1 Axes>"
      ]
     },
     "metadata": {
      "needs_background": "light"
     },
     "output_type": "display_data"
    },
    {
     "data": {
      "image/png": "[encoded data removed]",
      "text/plain": [
       "<Figure size 432x288 with 1 Axes>"
      ]
     },
     "metadata": {
      "needs_background": "light"
     },
     "output_type": "display_data"
    }
   ],
   "source": [
    "x = np.arange(-2,3,0.001)\n",
    "plt.plot(x,x**3,label='$x^3$')\n",
    "plt.plot(x,x**2 + x + 1,label='$x^2 + x + 1$')\n",
    "plt.grid(True)\n",
    "graph('2_1')\n",
    "plt.plot(x, x**3 - (x**2 + x + 1),label='$x^3 - x^2 - x - 1$')\n",
    "plt.grid(True)\n",
    "graph('2_2')"
   ]
  },
  {
   "cell_type": "code",
   "execution_count": 120,
   "metadata": {
    "colab": {
     "base_uri": "https://localhost:8080/",
     "height": 830
    },
    "colab_type": "code",
    "id": "nWMbBSmE72s-",
    "outputId": "752e1796-2f21-48e8-e54b-6e8f5cc641cf"
   },
   "outputs": [
    {
     "data": {
      "image/png": "[encoded data removed]",
      "text/plain": [
       "<Figure size 432x288 with 1 Axes>"
      ]
     },
     "metadata": {
      "needs_background": "light"
     },
     "output_type": "display_data"
    },
    {
     "name": "stdout",
     "output_type": "stream",
     "text": [
      "1.83929443359375\n",
      "4.2003719272543094e-05\n"
     ]
    },
    {
     "data": {
      "text/html": [
       "<div>\n",
       "<style scoped>\n",
       "    .dataframe tbody tr th:only-of-type {\n",
       "        vertical-align: middle;\n",
       "    }\n",
       "\n",
       "    .dataframe tbody tr th {\n",
       "        vertical-align: top;\n",
       "    }\n",
       "\n",
       "    .dataframe thead th {\n",
       "        text-align: right;\n",
       "    }\n",
       "</style>\n",
       "<table border=\"1\" class=\"dataframe\">\n",
       "  <thead>\n",
       "    <tr style=\"text-align: right;\">\n",
       "      <th></th>\n",
       "      <th>a</th>\n",
       "      <th>b</th>\n",
       "      <th>c</th>\n",
       "      <th>b-c</th>\n",
       "      <th>f(a)*f(c)</th>\n",
       "      <th>Assign</th>\n",
       "    </tr>\n",
       "  </thead>\n",
       "  <tbody>\n",
       "    <tr>\n",
       "      <th>0</th>\n",
       "      <td>1.500000</td>\n",
       "      <td>2</td>\n",
       "      <td>1.500000</td>\n",
       "      <td>0.500000</td>\n",
       "      <td>2.750000e+00</td>\n",
       "      <td>a=c</td>\n",
       "    </tr>\n",
       "    <tr>\n",
       "      <th>1</th>\n",
       "      <td>1.750000</td>\n",
       "      <td>2</td>\n",
       "      <td>1.750000</td>\n",
       "      <td>0.250000</td>\n",
       "      <td>6.230469e-01</td>\n",
       "      <td>a=c</td>\n",
       "    </tr>\n",
       "    <tr>\n",
       "      <th>2</th>\n",
       "      <td>1.750000</td>\n",
       "      <td>1.875</td>\n",
       "      <td>1.875000</td>\n",
       "      <td>0.125000</td>\n",
       "      <td>-9.115601e-02</td>\n",
       "      <td>b=c</td>\n",
       "    </tr>\n",
       "    <tr>\n",
       "      <th>3</th>\n",
       "      <td>1.812500</td>\n",
       "      <td>1.875</td>\n",
       "      <td>1.812500</td>\n",
       "      <td>0.062500</td>\n",
       "      <td>6.493759e-02</td>\n",
       "      <td>a=c</td>\n",
       "    </tr>\n",
       "    <tr>\n",
       "      <th>4</th>\n",
       "      <td>1.812500</td>\n",
       "      <td>1.84375</td>\n",
       "      <td>1.843750</td>\n",
       "      <td>0.031250</td>\n",
       "      <td>-3.511913e-03</td>\n",
       "      <td>b=c</td>\n",
       "    </tr>\n",
       "    <tr>\n",
       "      <th>5</th>\n",
       "      <td>1.828125</td>\n",
       "      <td>1.84375</td>\n",
       "      <td>1.828125</td>\n",
       "      <td>0.015625</td>\n",
       "      <td>8.669899e-03</td>\n",
       "      <td>a=c</td>\n",
       "    </tr>\n",
       "    <tr>\n",
       "      <th>6</th>\n",
       "      <td>1.835938</td>\n",
       "      <td>1.84375</td>\n",
       "      <td>1.835938</td>\n",
       "      <td>0.007812</td>\n",
       "      <td>1.105344e-03</td>\n",
       "      <td>a=c</td>\n",
       "    </tr>\n",
       "    <tr>\n",
       "      <th>7</th>\n",
       "      <td>1.835938</td>\n",
       "      <td>1.83984</td>\n",
       "      <td>1.839844</td>\n",
       "      <td>0.003906</td>\n",
       "      <td>-5.569650e-05</td>\n",
       "      <td>b=c</td>\n",
       "    </tr>\n",
       "    <tr>\n",
       "      <th>8</th>\n",
       "      <td>1.837891</td>\n",
       "      <td>1.83984</td>\n",
       "      <td>1.837891</td>\n",
       "      <td>0.001953</td>\n",
       "      <td>1.393805e-04</td>\n",
       "      <td>a=c</td>\n",
       "    </tr>\n",
       "    <tr>\n",
       "      <th>9</th>\n",
       "      <td>1.838867</td>\n",
       "      <td>1.83984</td>\n",
       "      <td>1.838867</td>\n",
       "      <td>0.000977</td>\n",
       "      <td>1.750280e-05</td>\n",
       "      <td>a=c</td>\n",
       "    </tr>\n",
       "    <tr>\n",
       "      <th>10</th>\n",
       "      <td>1.838867</td>\n",
       "      <td>1.83936</td>\n",
       "      <td>1.839355</td>\n",
       "      <td>0.000488</td>\n",
       "      <td>-8.624806e-07</td>\n",
       "      <td>b=c</td>\n",
       "    </tr>\n",
       "    <tr>\n",
       "      <th>11</th>\n",
       "      <td>1.839111</td>\n",
       "      <td>1.83936</td>\n",
       "      <td>1.839111</td>\n",
       "      <td>0.000244</td>\n",
       "      <td>2.201487e-06</td>\n",
       "      <td>a=c</td>\n",
       "    </tr>\n",
       "    <tr>\n",
       "      <th>12</th>\n",
       "      <td>1.839233</td>\n",
       "      <td>1.83936</td>\n",
       "      <td>1.839233</td>\n",
       "      <td>0.000122</td>\n",
       "      <td>2.800496e-07</td>\n",
       "      <td>a=c</td>\n",
       "    </tr>\n",
       "  </tbody>\n",
       "</table>\n",
       "</div>"
      ],
      "text/plain": [
       "           a        b         c       b-c     f(a)*f(c) Assign\n",
       "0   1.500000        2  1.500000  0.500000  2.750000e+00    a=c\n",
       "1   1.750000        2  1.750000  0.250000  6.230469e-01    a=c\n",
       "2   1.750000    1.875  1.875000  0.125000 -9.115601e-02    b=c\n",
       "3   1.812500    1.875  1.812500  0.062500  6.493759e-02    a=c\n",
       "4   1.812500  1.84375  1.843750  0.031250 -3.511913e-03    b=c\n",
       "5   1.828125  1.84375  1.828125  0.015625  8.669899e-03    a=c\n",
       "6   1.835938  1.84375  1.835938  0.007812  1.105344e-03    a=c\n",
       "7   1.835938  1.83984  1.839844  0.003906 -5.569650e-05    b=c\n",
       "8   1.837891  1.83984  1.837891  0.001953  1.393805e-04    a=c\n",
       "9   1.838867  1.83984  1.838867  0.000977  1.750280e-05    a=c\n",
       "10  1.838867  1.83936  1.839355  0.000488 -8.624806e-07    b=c\n",
       "11  1.839111  1.83936  1.839111  0.000244  2.201487e-06    a=c\n",
       "12  1.839233  1.83936  1.839233  0.000122  2.800496e-07    a=c"
      ]
     },
     "execution_count": 120,
     "metadata": {},
     "output_type": "execute_result"
    }
   ],
   "source": [
    "a , n , arr, table = bissection(1,2,0.0001,2)\n",
    "iterations(n,arr,'2_1')\n",
    "print(str(a) + \"\\n\" + str(func(a,2)))\n",
    "table"
   ]
  },
  {
   "cell_type": "code",
   "execution_count": 6,
   "metadata": {
    "colab": {
     "base_uri": "https://localhost:8080/",
     "height": 705
    },
    "colab_type": "code",
    "id": "cPuLeqpy8UZ0",
    "outputId": "16689b2c-e116-4c7a-84ba-6bb5fd2bdd9d"
   },
   "outputs": [
    {
     "data": {
      "image/png": "[encoded data removed]",
      "text/plain": [
       "<Figure size 432x288 with 1 Axes>"
      ]
     },
     "metadata": {
      "needs_background": "light"
     },
     "output_type": "display_data"
    },
    {
     "data": {
      "image/png": "[encoded data removed]",
      "text/plain": [
       "<Figure size 432x288 with 1 Axes>"
      ]
     },
     "metadata": {
      "needs_background": "light"
     },
     "output_type": "display_data"
    }
   ],
   "source": [
    "x = np.arange(-3,5,0.001)\n",
    "plt.plot(x,x-1,label='$x-1$')\n",
    "plt.plot(x,0.3*np.cos(x),label='$0.3cos(x)$')\n",
    "graph('3_1')\n",
    "plt.plot(x,x-1-0.3*np.cos(x) , label='$x - 1 - 0.3cos(x)$')\n",
    "graph('3_2')"
   ]
  },
  {
   "cell_type": "code",
   "execution_count": 122,
   "metadata": {
    "colab": {
     "base_uri": "https://localhost:8080/",
     "height": 861
    },
    "colab_type": "code",
    "id": "w2XoQm9f9K6e",
    "outputId": "c8173cd5-68ac-449e-be35-ff0b5b16c7bf"
   },
   "outputs": [
    {
     "data": {
      "image/png": "[encoded data removed]",
      "text/plain": [
       "<Figure size 432x288 with 1 Axes>"
      ]
     },
     "metadata": {
      "needs_background": "light"
     },
     "output_type": "display_data"
    },
    {
     "name": "stdout",
     "output_type": "stream",
     "text": [
      "1.12847900390625\n",
      "6.852752122066263e-05\n"
     ]
    },
    {
     "data": {
      "text/html": [
       "<div>\n",
       "<style scoped>\n",
       "    .dataframe tbody tr th:only-of-type {\n",
       "        vertical-align: middle;\n",
       "    }\n",
       "\n",
       "    .dataframe tbody tr th {\n",
       "        vertical-align: top;\n",
       "    }\n",
       "\n",
       "    .dataframe thead th {\n",
       "        text-align: right;\n",
       "    }\n",
       "</style>\n",
       "<table border=\"1\" class=\"dataframe\">\n",
       "  <thead>\n",
       "    <tr style=\"text-align: right;\">\n",
       "      <th></th>\n",
       "      <th>a</th>\n",
       "      <th>b</th>\n",
       "      <th>c</th>\n",
       "      <th>b-c</th>\n",
       "      <th>f(a)*f(c)</th>\n",
       "      <th>Assign</th>\n",
       "    </tr>\n",
       "  </thead>\n",
       "  <tbody>\n",
       "    <tr>\n",
       "      <th>0</th>\n",
       "      <td>1.000000</td>\n",
       "      <td>2</td>\n",
       "      <td>1.000000</td>\n",
       "      <td>1.000000</td>\n",
       "      <td>2.107179e-01</td>\n",
       "      <td>a=c</td>\n",
       "    </tr>\n",
       "    <tr>\n",
       "      <th>1</th>\n",
       "      <td>1.000000</td>\n",
       "      <td>1.5</td>\n",
       "      <td>1.500000</td>\n",
       "      <td>0.500000</td>\n",
       "      <td>-7.760559e-02</td>\n",
       "      <td>b=c</td>\n",
       "    </tr>\n",
       "    <tr>\n",
       "      <th>2</th>\n",
       "      <td>1.000000</td>\n",
       "      <td>1.25</td>\n",
       "      <td>1.250000</td>\n",
       "      <td>0.250000</td>\n",
       "      <td>-2.518943e-02</td>\n",
       "      <td>b=c</td>\n",
       "    </tr>\n",
       "    <tr>\n",
       "      <th>3</th>\n",
       "      <td>1.125000</td>\n",
       "      <td>1.25</td>\n",
       "      <td>1.125000</td>\n",
       "      <td>0.125000</td>\n",
       "      <td>7.055735e-04</td>\n",
       "      <td>a=c</td>\n",
       "    </tr>\n",
       "    <tr>\n",
       "      <th>4</th>\n",
       "      <td>1.125000</td>\n",
       "      <td>1.1875</td>\n",
       "      <td>1.187500</td>\n",
       "      <td>0.062500</td>\n",
       "      <td>-3.278041e-04</td>\n",
       "      <td>b=c</td>\n",
       "    </tr>\n",
       "    <tr>\n",
       "      <th>5</th>\n",
       "      <td>1.125000</td>\n",
       "      <td>1.15625</td>\n",
       "      <td>1.156250</td>\n",
       "      <td>0.031250</td>\n",
       "      <td>-1.541711e-04</td>\n",
       "      <td>b=c</td>\n",
       "    </tr>\n",
       "    <tr>\n",
       "      <th>6</th>\n",
       "      <td>1.125000</td>\n",
       "      <td>1.14062</td>\n",
       "      <td>1.140625</td>\n",
       "      <td>0.015625</td>\n",
       "      <td>-6.754499e-05</td>\n",
       "      <td>b=c</td>\n",
       "    </tr>\n",
       "    <tr>\n",
       "      <th>7</th>\n",
       "      <td>1.125000</td>\n",
       "      <td>1.13281</td>\n",
       "      <td>1.132812</td>\n",
       "      <td>0.007812</td>\n",
       "      <td>-2.428148e-05</td>\n",
       "      <td>b=c</td>\n",
       "    </tr>\n",
       "    <tr>\n",
       "      <th>8</th>\n",
       "      <td>1.125000</td>\n",
       "      <td>1.12891</td>\n",
       "      <td>1.128906</td>\n",
       "      <td>0.003906</td>\n",
       "      <td>-2.662372e-06</td>\n",
       "      <td>b=c</td>\n",
       "    </tr>\n",
       "    <tr>\n",
       "      <th>9</th>\n",
       "      <td>1.126953</td>\n",
       "      <td>1.12891</td>\n",
       "      <td>1.126953</td>\n",
       "      <td>0.001953</td>\n",
       "      <td>8.143992e-06</td>\n",
       "      <td>a=c</td>\n",
       "    </tr>\n",
       "    <tr>\n",
       "      <th>10</th>\n",
       "      <td>1.127930</td>\n",
       "      <td>1.12891</td>\n",
       "      <td>1.127930</td>\n",
       "      <td>0.000977</td>\n",
       "      <td>1.178122e-06</td>\n",
       "      <td>a=c</td>\n",
       "    </tr>\n",
       "    <tr>\n",
       "      <th>11</th>\n",
       "      <td>1.128418</td>\n",
       "      <td>1.12891</td>\n",
       "      <td>1.128418</td>\n",
       "      <td>0.000488</td>\n",
       "      <td>5.702467e-09</td>\n",
       "      <td>a=c</td>\n",
       "    </tr>\n",
       "    <tr>\n",
       "      <th>12</th>\n",
       "      <td>1.128418</td>\n",
       "      <td>1.12866</td>\n",
       "      <td>1.128662</td>\n",
       "      <td>0.000244</td>\n",
       "      <td>-2.728327e-09</td>\n",
       "      <td>b=c</td>\n",
       "    </tr>\n",
       "    <tr>\n",
       "      <th>13</th>\n",
       "      <td>1.128418</td>\n",
       "      <td>1.12854</td>\n",
       "      <td>1.128540</td>\n",
       "      <td>0.000122</td>\n",
       "      <td>-1.323151e-09</td>\n",
       "      <td>b=c</td>\n",
       "    </tr>\n",
       "  </tbody>\n",
       "</table>\n",
       "</div>"
      ],
      "text/plain": [
       "           a        b         c       b-c     f(a)*f(c) Assign\n",
       "0   1.000000        2  1.000000  1.000000  2.107179e-01    a=c\n",
       "1   1.000000      1.5  1.500000  0.500000 -7.760559e-02    b=c\n",
       "2   1.000000     1.25  1.250000  0.250000 -2.518943e-02    b=c\n",
       "3   1.125000     1.25  1.125000  0.125000  7.055735e-04    a=c\n",
       "4   1.125000   1.1875  1.187500  0.062500 -3.278041e-04    b=c\n",
       "5   1.125000  1.15625  1.156250  0.031250 -1.541711e-04    b=c\n",
       "6   1.125000  1.14062  1.140625  0.015625 -6.754499e-05    b=c\n",
       "7   1.125000  1.13281  1.132812  0.007812 -2.428148e-05    b=c\n",
       "8   1.125000  1.12891  1.128906  0.003906 -2.662372e-06    b=c\n",
       "9   1.126953  1.12891  1.126953  0.001953  8.143992e-06    a=c\n",
       "10  1.127930  1.12891  1.127930  0.000977  1.178122e-06    a=c\n",
       "11  1.128418  1.12891  1.128418  0.000488  5.702467e-09    a=c\n",
       "12  1.128418  1.12866  1.128662  0.000244 -2.728327e-09    b=c\n",
       "13  1.128418  1.12854  1.128540  0.000122 -1.323151e-09    b=c"
      ]
     },
     "execution_count": 122,
     "metadata": {},
     "output_type": "execute_result"
    }
   ],
   "source": [
    "a , n , arr , table = bissection(0,2,0.0001,3)\n",
    "iterations(n,arr,\"3_1\")\n",
    "print(str(a) + \"\\n\" + str(func(a,3)))\n",
    "table"
   ]
  },
  {
   "cell_type": "code",
   "execution_count": 123,
   "metadata": {
    "colab": {
     "base_uri": "https://localhost:8080/",
     "height": 705
    },
    "colab_type": "code",
    "id": "tto1zdSM9fpE",
    "outputId": "102c735c-e5e7-477f-ede8-0813046db347"
   },
   "outputs": [
    {
     "data": {
      "image/png": "[encoded data removed]",
      "text/plain": [
       "<Figure size 432x288 with 1 Axes>"
      ]
     },
     "metadata": {
      "needs_background": "light"
     },
     "output_type": "display_data"
    },
    {
     "data": {
      "image/png": "[encoded data removed]",
      "text/plain": [
       "<Figure size 432x288 with 1 Axes>"
      ]
     },
     "metadata": {
      "needs_background": "light"
     },
     "output_type": "display_data"
    }
   ],
   "source": [
    "x = np.arange(-10,10,0.001)\n",
    "plt.plot(x,0.5 + np.sin(x),label='$0.5 + sin(x)$')\n",
    "plt.plot(x,np.cos(x),label='$cos(x)$')\n",
    "graph(\"4_1\")\n",
    "plt.plot(x,0.5 + np.sin(x) - np.cos(x),label='$0.5 + sin(x) - cos(x)$')\n",
    "graph(\"4_2\")"
   ]
  },
  {
   "cell_type": "code",
   "execution_count": 124,
   "metadata": {
    "colab": {
     "base_uri": "https://localhost:8080/",
     "height": 861
    },
    "colab_type": "code",
    "id": "uJAixZid-_d8",
    "outputId": "efdb5edf-2a11-4b62-c129-b64a07fbcd73"
   },
   "outputs": [
    {
     "data": {
      "image/png": "[encoded data removed]",
      "text/plain": [
       "<Figure size 432x288 with 1 Axes>"
      ]
     },
     "metadata": {
      "needs_background": "light"
     },
     "output_type": "display_data"
    },
    {
     "name": "stdout",
     "output_type": "stream",
     "text": [
      "0.42401123046875\n",
      "-2.620477485004713e-05\n"
     ]
    },
    {
     "data": {
      "text/html": [
       "<div>\n",
       "<style scoped>\n",
       "    .dataframe tbody tr th:only-of-type {\n",
       "        vertical-align: middle;\n",
       "    }\n",
       "\n",
       "    .dataframe tbody tr th {\n",
       "        vertical-align: top;\n",
       "    }\n",
       "\n",
       "    .dataframe thead th {\n",
       "        text-align: right;\n",
       "    }\n",
       "</style>\n",
       "<table border=\"1\" class=\"dataframe\">\n",
       "  <thead>\n",
       "    <tr style=\"text-align: right;\">\n",
       "      <th></th>\n",
       "      <th>a</th>\n",
       "      <th>b</th>\n",
       "      <th>c</th>\n",
       "      <th>b-c</th>\n",
       "      <th>f(a)*f(c)</th>\n",
       "      <th>Assign</th>\n",
       "    </tr>\n",
       "  </thead>\n",
       "  <tbody>\n",
       "    <tr>\n",
       "      <th>0</th>\n",
       "      <td>0</td>\n",
       "      <td>1.000000</td>\n",
       "      <td>1.000000</td>\n",
       "      <td>1.000000</td>\n",
       "      <td>-4.005843e-01</td>\n",
       "      <td>b=c</td>\n",
       "    </tr>\n",
       "    <tr>\n",
       "      <th>1</th>\n",
       "      <td>0</td>\n",
       "      <td>0.500000</td>\n",
       "      <td>0.500000</td>\n",
       "      <td>0.500000</td>\n",
       "      <td>-5.092149e-02</td>\n",
       "      <td>b=c</td>\n",
       "    </tr>\n",
       "    <tr>\n",
       "      <th>2</th>\n",
       "      <td>0.25</td>\n",
       "      <td>0.500000</td>\n",
       "      <td>0.250000</td>\n",
       "      <td>0.250000</td>\n",
       "      <td>1.107542e-01</td>\n",
       "      <td>a=c</td>\n",
       "    </tr>\n",
       "    <tr>\n",
       "      <th>3</th>\n",
       "      <td>0.375</td>\n",
       "      <td>0.500000</td>\n",
       "      <td>0.375000</td>\n",
       "      <td>0.125000</td>\n",
       "      <td>1.422862e-02</td>\n",
       "      <td>a=c</td>\n",
       "    </tr>\n",
       "    <tr>\n",
       "      <th>4</th>\n",
       "      <td>0.375</td>\n",
       "      <td>0.437500</td>\n",
       "      <td>0.437500</td>\n",
       "      <td>0.062500</td>\n",
       "      <td>-1.147404e-03</td>\n",
       "      <td>b=c</td>\n",
       "    </tr>\n",
       "    <tr>\n",
       "      <th>5</th>\n",
       "      <td>0.40625</td>\n",
       "      <td>0.437500</td>\n",
       "      <td>0.406250</td>\n",
       "      <td>0.031250</td>\n",
       "      <td>1.505788e-03</td>\n",
       "      <td>a=c</td>\n",
       "    </tr>\n",
       "    <tr>\n",
       "      <th>6</th>\n",
       "      <td>0.421875</td>\n",
       "      <td>0.437500</td>\n",
       "      <td>0.421875</td>\n",
       "      <td>0.015625</td>\n",
       "      <td>6.683283e-05</td>\n",
       "      <td>a=c</td>\n",
       "    </tr>\n",
       "    <tr>\n",
       "      <th>7</th>\n",
       "      <td>0.421875</td>\n",
       "      <td>0.429688</td>\n",
       "      <td>0.429688</td>\n",
       "      <td>0.007812</td>\n",
       "      <td>-2.135619e-05</td>\n",
       "      <td>b=c</td>\n",
       "    </tr>\n",
       "    <tr>\n",
       "      <th>8</th>\n",
       "      <td>0.421875</td>\n",
       "      <td>0.425781</td>\n",
       "      <td>0.425781</td>\n",
       "      <td>0.003906</td>\n",
       "      <td>-6.603149e-06</td>\n",
       "      <td>b=c</td>\n",
       "    </tr>\n",
       "    <tr>\n",
       "      <th>9</th>\n",
       "      <td>0.423828</td>\n",
       "      <td>0.425781</td>\n",
       "      <td>0.423828</td>\n",
       "      <td>0.001953</td>\n",
       "      <td>7.652685e-07</td>\n",
       "      <td>a=c</td>\n",
       "    </tr>\n",
       "    <tr>\n",
       "      <th>10</th>\n",
       "      <td>0.423828</td>\n",
       "      <td>0.424805</td>\n",
       "      <td>0.424805</td>\n",
       "      <td>0.000977</td>\n",
       "      <td>-2.747523e-07</td>\n",
       "      <td>b=c</td>\n",
       "    </tr>\n",
       "    <tr>\n",
       "      <th>11</th>\n",
       "      <td>0.423828</td>\n",
       "      <td>0.424316</td>\n",
       "      <td>0.424316</td>\n",
       "      <td>0.000488</td>\n",
       "      <td>-1.013354e-07</td>\n",
       "      <td>b=c</td>\n",
       "    </tr>\n",
       "    <tr>\n",
       "      <th>12</th>\n",
       "      <td>0.423828</td>\n",
       "      <td>0.424072</td>\n",
       "      <td>0.424072</td>\n",
       "      <td>0.000244</td>\n",
       "      <td>-1.463897e-08</td>\n",
       "      <td>b=c</td>\n",
       "    </tr>\n",
       "    <tr>\n",
       "      <th>13</th>\n",
       "      <td>0.42395</td>\n",
       "      <td>0.424072</td>\n",
       "      <td>0.423950</td>\n",
       "      <td>0.000122</td>\n",
       "      <td>2.870626e-08</td>\n",
       "      <td>a=c</td>\n",
       "    </tr>\n",
       "  </tbody>\n",
       "</table>\n",
       "</div>"
      ],
      "text/plain": [
       "           a         b         c       b-c     f(a)*f(c) Assign\n",
       "0          0  1.000000  1.000000  1.000000 -4.005843e-01    b=c\n",
       "1          0  0.500000  0.500000  0.500000 -5.092149e-02    b=c\n",
       "2       0.25  0.500000  0.250000  0.250000  1.107542e-01    a=c\n",
       "3      0.375  0.500000  0.375000  0.125000  1.422862e-02    a=c\n",
       "4      0.375  0.437500  0.437500  0.062500 -1.147404e-03    b=c\n",
       "5    0.40625  0.437500  0.406250  0.031250  1.505788e-03    a=c\n",
       "6   0.421875  0.437500  0.421875  0.015625  6.683283e-05    a=c\n",
       "7   0.421875  0.429688  0.429688  0.007812 -2.135619e-05    b=c\n",
       "8   0.421875  0.425781  0.425781  0.003906 -6.603149e-06    b=c\n",
       "9   0.423828  0.425781  0.423828  0.001953  7.652685e-07    a=c\n",
       "10  0.423828  0.424805  0.424805  0.000977 -2.747523e-07    b=c\n",
       "11  0.423828  0.424316  0.424316  0.000488 -1.013354e-07    b=c\n",
       "12  0.423828  0.424072  0.424072  0.000244 -1.463897e-08    b=c\n",
       "13   0.42395  0.424072  0.423950  0.000122  2.870626e-08    a=c"
      ]
     },
     "execution_count": 124,
     "metadata": {},
     "output_type": "execute_result"
    }
   ],
   "source": [
    "a , n , arr , table = bissection(0,2,0.0001,4)\n",
    "iterations(n,arr,\"4_1\")\n",
    "print(str(a) + \"\\n\" + str(func(a,4)))\n",
    "table"
   ]
  },
  {
   "cell_type": "code",
   "execution_count": 7,
   "metadata": {
    "colab": {
     "base_uri": "https://localhost:8080/",
     "height": 705
    },
    "colab_type": "code",
    "id": "NNxZXhTr_JVQ",
    "outputId": "4c049e6f-399e-46f3-f8f1-731ff0eef5bd"
   },
   "outputs": [
    {
     "data": {
      "image/png": "[encoded data removed]",
      "text/plain": [
       "<Figure size 432x288 with 1 Axes>"
      ]
     },
     "metadata": {
      "needs_background": "light"
     },
     "output_type": "display_data"
    },
    {
     "data": {
      "image/png": "[encoded data removed]",
      "text/plain": [
       "<Figure size 432x288 with 1 Axes>"
      ]
     },
     "metadata": {
      "needs_background": "light"
     },
     "output_type": "display_data"
    }
   ],
   "source": [
    "x = np.arange(-0,5,0.001)\n",
    "plt.plot(x,x,label='$x$')\n",
    "plt.plot(x,np.e**(-x),label='$e^{-x}$')\n",
    "graph(\"5_1\")\n",
    "plt.plot(x,x - np.e**(-x),label='$x - e^{-x}$')\n",
    "graph(\"5_2\")"
   ]
  },
  {
   "cell_type": "code",
   "execution_count": 126,
   "metadata": {
    "colab": {
     "base_uri": "https://localhost:8080/",
     "height": 830
    },
    "colab_type": "code",
    "id": "_ooYbUhY_hlc",
    "outputId": "4ef6995b-2a86-4909-dd57-eeb9520b465e"
   },
   "outputs": [
    {
     "data": {
      "image/png": "[encoded data removed]",
      "text/plain": [
       "<Figure size 432x288 with 1 Axes>"
      ]
     },
     "metadata": {
      "needs_background": "light"
     },
     "output_type": "display_data"
    },
    {
     "name": "stdout",
     "output_type": "stream",
     "text": [
      "0.56719970703125\n",
      "8.841202725340391e-05\n"
     ]
    },
    {
     "data": {
      "text/html": [
       "<div>\n",
       "<style scoped>\n",
       "    .dataframe tbody tr th:only-of-type {\n",
       "        vertical-align: middle;\n",
       "    }\n",
       "\n",
       "    .dataframe tbody tr th {\n",
       "        vertical-align: top;\n",
       "    }\n",
       "\n",
       "    .dataframe thead th {\n",
       "        text-align: right;\n",
       "    }\n",
       "</style>\n",
       "<table border=\"1\" class=\"dataframe\">\n",
       "  <thead>\n",
       "    <tr style=\"text-align: right;\">\n",
       "      <th></th>\n",
       "      <th>a</th>\n",
       "      <th>b</th>\n",
       "      <th>c</th>\n",
       "      <th>b-c</th>\n",
       "      <th>f(a)*f(c)</th>\n",
       "      <th>Assign</th>\n",
       "    </tr>\n",
       "  </thead>\n",
       "  <tbody>\n",
       "    <tr>\n",
       "      <th>0</th>\n",
       "      <td>0.500000</td>\n",
       "      <td>1</td>\n",
       "      <td>0.500000</td>\n",
       "      <td>0.500000</td>\n",
       "      <td>1.065307e-01</td>\n",
       "      <td>a=c</td>\n",
       "    </tr>\n",
       "    <tr>\n",
       "      <th>1</th>\n",
       "      <td>0.500000</td>\n",
       "      <td>0.75</td>\n",
       "      <td>0.750000</td>\n",
       "      <td>0.250000</td>\n",
       "      <td>-2.957647e-02</td>\n",
       "      <td>b=c</td>\n",
       "    </tr>\n",
       "    <tr>\n",
       "      <th>2</th>\n",
       "      <td>0.500000</td>\n",
       "      <td>0.625</td>\n",
       "      <td>0.625000</td>\n",
       "      <td>0.125000</td>\n",
       "      <td>-9.559909e-03</td>\n",
       "      <td>b=c</td>\n",
       "    </tr>\n",
       "    <tr>\n",
       "      <th>3</th>\n",
       "      <td>0.562500</td>\n",
       "      <td>0.625</td>\n",
       "      <td>0.562500</td>\n",
       "      <td>0.062500</td>\n",
       "      <td>7.758441e-04</td>\n",
       "      <td>a=c</td>\n",
       "    </tr>\n",
       "    <tr>\n",
       "      <th>4</th>\n",
       "      <td>0.562500</td>\n",
       "      <td>0.59375</td>\n",
       "      <td>0.593750</td>\n",
       "      <td>0.031250</td>\n",
       "      <td>-3.022194e-04</td>\n",
       "      <td>b=c</td>\n",
       "    </tr>\n",
       "    <tr>\n",
       "      <th>5</th>\n",
       "      <td>0.562500</td>\n",
       "      <td>0.578125</td>\n",
       "      <td>0.578125</td>\n",
       "      <td>0.015625</td>\n",
       "      <td>-1.250886e-04</td>\n",
       "      <td>b=c</td>\n",
       "    </tr>\n",
       "    <tr>\n",
       "      <th>6</th>\n",
       "      <td>0.562500</td>\n",
       "      <td>0.570312</td>\n",
       "      <td>0.570312</td>\n",
       "      <td>0.007812</td>\n",
       "      <td>-3.615020e-05</td>\n",
       "      <td>b=c</td>\n",
       "    </tr>\n",
       "    <tr>\n",
       "      <th>7</th>\n",
       "      <td>0.566406</td>\n",
       "      <td>0.570312</td>\n",
       "      <td>0.566406</td>\n",
       "      <td>0.003906</td>\n",
       "      <td>8.413134e-06</td>\n",
       "      <td>a=c</td>\n",
       "    </tr>\n",
       "    <tr>\n",
       "      <th>8</th>\n",
       "      <td>0.566406</td>\n",
       "      <td>0.568359</td>\n",
       "      <td>0.568359</td>\n",
       "      <td>0.001953</td>\n",
       "      <td>-2.201075e-06</td>\n",
       "      <td>b=c</td>\n",
       "    </tr>\n",
       "    <tr>\n",
       "      <th>9</th>\n",
       "      <td>0.566406</td>\n",
       "      <td>0.567383</td>\n",
       "      <td>0.567383</td>\n",
       "      <td>0.000977</td>\n",
       "      <td>-4.336041e-07</td>\n",
       "      <td>b=c</td>\n",
       "    </tr>\n",
       "    <tr>\n",
       "      <th>10</th>\n",
       "      <td>0.566895</td>\n",
       "      <td>0.567383</td>\n",
       "      <td>0.566895</td>\n",
       "      <td>0.000488</td>\n",
       "      <td>4.503657e-07</td>\n",
       "      <td>a=c</td>\n",
       "    </tr>\n",
       "    <tr>\n",
       "      <th>11</th>\n",
       "      <td>0.567139</td>\n",
       "      <td>0.567383</td>\n",
       "      <td>0.567139</td>\n",
       "      <td>0.000244</td>\n",
       "      <td>2.821764e-09</td>\n",
       "      <td>a=c</td>\n",
       "    </tr>\n",
       "    <tr>\n",
       "      <th>12</th>\n",
       "      <td>0.567139</td>\n",
       "      <td>0.567261</td>\n",
       "      <td>0.567261</td>\n",
       "      <td>0.000122</td>\n",
       "      <td>-1.332209e-09</td>\n",
       "      <td>b=c</td>\n",
       "    </tr>\n",
       "  </tbody>\n",
       "</table>\n",
       "</div>"
      ],
      "text/plain": [
       "           a         b         c       b-c     f(a)*f(c) Assign\n",
       "0   0.500000         1  0.500000  0.500000  1.065307e-01    a=c\n",
       "1   0.500000      0.75  0.750000  0.250000 -2.957647e-02    b=c\n",
       "2   0.500000     0.625  0.625000  0.125000 -9.559909e-03    b=c\n",
       "3   0.562500     0.625  0.562500  0.062500  7.758441e-04    a=c\n",
       "4   0.562500   0.59375  0.593750  0.031250 -3.022194e-04    b=c\n",
       "5   0.562500  0.578125  0.578125  0.015625 -1.250886e-04    b=c\n",
       "6   0.562500  0.570312  0.570312  0.007812 -3.615020e-05    b=c\n",
       "7   0.566406  0.570312  0.566406  0.003906  8.413134e-06    a=c\n",
       "8   0.566406  0.568359  0.568359  0.001953 -2.201075e-06    b=c\n",
       "9   0.566406  0.567383  0.567383  0.000977 -4.336041e-07    b=c\n",
       "10  0.566895  0.567383  0.566895  0.000488  4.503657e-07    a=c\n",
       "11  0.567139  0.567383  0.567139  0.000244  2.821764e-09    a=c\n",
       "12  0.567139  0.567261  0.567261  0.000122 -1.332209e-09    b=c"
      ]
     },
     "execution_count": 126,
     "metadata": {},
     "output_type": "execute_result"
    }
   ],
   "source": [
    "a , n , arr , table = bissection(0,1,0.0001,5)\n",
    "iterations(n,arr,\"5_1\")\n",
    "print(str(a) + \"\\n\" + str(func(a,5)))\n",
    "table"
   ]
  },
  {
   "cell_type": "code",
   "execution_count": 127,
   "metadata": {
    "colab": {
     "base_uri": "https://localhost:8080/",
     "height": 705
    },
    "colab_type": "code",
    "id": "yo3odibf_-j4",
    "outputId": "e780937c-4554-4e40-de2b-1e6ab88af884"
   },
   "outputs": [
    {
     "data": {
      "image/png": "[encoded data removed]",
      "text/plain": [
       "<Figure size 432x288 with 1 Axes>"
      ]
     },
     "metadata": {
      "needs_background": "light"
     },
     "output_type": "display_data"
    },
    {
     "data": {
      "image/png": "[encoded data removed]",
      "text/plain": [
       "<Figure size 432x288 with 1 Axes>"
      ]
     },
     "metadata": {
      "needs_background": "light"
     },
     "output_type": "display_data"
    }
   ],
   "source": [
    "x = np.arange(0,5,0.001)\n",
    "plt.plot(x,np.sin(x),label='$sin(x)$')\n",
    "plt.plot(x,np.e**(-x),label='$e^{-x}$')\n",
    "graph(\"6_1\")\n",
    "plt.plot(x,np.sin(x) - np.e**(-x),label='$sin(x) - e^{-x}$')\n",
    "graph(\"6_2\")"
   ]
  },
  {
   "cell_type": "code",
   "execution_count": 128,
   "metadata": {
    "colab": {
     "base_uri": "https://localhost:8080/",
     "height": 830
    },
    "colab_type": "code",
    "id": "8IU_i0L2AI3W",
    "outputId": "d4b98c5c-4745-47f1-c5bd-bfb58cfbc1f8"
   },
   "outputs": [
    {
     "data": {
      "image/png": "[encoded data removed]",
      "text/plain": [
       "<Figure size 432x288 with 1 Axes>"
      ]
     },
     "metadata": {
      "needs_background": "light"
     },
     "output_type": "display_data"
    },
    {
     "name": "stdout",
     "output_type": "stream",
     "text": [
      "0.58856201171875\n",
      "-4.0590870616363794e-05\n"
     ]
    },
    {
     "data": {
      "text/html": [
       "<div>\n",
       "<style scoped>\n",
       "    .dataframe tbody tr th:only-of-type {\n",
       "        vertical-align: middle;\n",
       "    }\n",
       "\n",
       "    .dataframe tbody tr th {\n",
       "        vertical-align: top;\n",
       "    }\n",
       "\n",
       "    .dataframe thead th {\n",
       "        text-align: right;\n",
       "    }\n",
       "</style>\n",
       "<table border=\"1\" class=\"dataframe\">\n",
       "  <thead>\n",
       "    <tr style=\"text-align: right;\">\n",
       "      <th></th>\n",
       "      <th>a</th>\n",
       "      <th>b</th>\n",
       "      <th>c</th>\n",
       "      <th>b-c</th>\n",
       "      <th>f(a)*f(c)</th>\n",
       "      <th>Assign</th>\n",
       "    </tr>\n",
       "  </thead>\n",
       "  <tbody>\n",
       "    <tr>\n",
       "      <th>0</th>\n",
       "      <td>0.500000</td>\n",
       "      <td>1</td>\n",
       "      <td>0.500000</td>\n",
       "      <td>0.500000</td>\n",
       "      <td>1.271051e-01</td>\n",
       "      <td>a=c</td>\n",
       "    </tr>\n",
       "    <tr>\n",
       "      <th>1</th>\n",
       "      <td>0.500000</td>\n",
       "      <td>0.75</td>\n",
       "      <td>0.750000</td>\n",
       "      <td>0.250000</td>\n",
       "      <td>-2.659957e-02</td>\n",
       "      <td>b=c</td>\n",
       "    </tr>\n",
       "    <tr>\n",
       "      <th>2</th>\n",
       "      <td>0.500000</td>\n",
       "      <td>0.625</td>\n",
       "      <td>0.625000</td>\n",
       "      <td>0.125000</td>\n",
       "      <td>-6.334391e-03</td>\n",
       "      <td>b=c</td>\n",
       "    </tr>\n",
       "    <tr>\n",
       "      <th>3</th>\n",
       "      <td>0.562500</td>\n",
       "      <td>0.625</td>\n",
       "      <td>0.562500</td>\n",
       "      <td>0.062500</td>\n",
       "      <td>4.636814e-03</td>\n",
       "      <td>a=c</td>\n",
       "    </tr>\n",
       "    <tr>\n",
       "      <th>4</th>\n",
       "      <td>0.562500</td>\n",
       "      <td>0.59375</td>\n",
       "      <td>0.593750</td>\n",
       "      <td>0.031250</td>\n",
       "      <td>-2.634115e-04</td>\n",
       "      <td>b=c</td>\n",
       "    </tr>\n",
       "    <tr>\n",
       "      <th>5</th>\n",
       "      <td>0.578125</td>\n",
       "      <td>0.59375</td>\n",
       "      <td>0.578125</td>\n",
       "      <td>0.015625</td>\n",
       "      <td>5.287635e-04</td>\n",
       "      <td>a=c</td>\n",
       "    </tr>\n",
       "    <tr>\n",
       "      <th>6</th>\n",
       "      <td>0.585938</td>\n",
       "      <td>0.59375</td>\n",
       "      <td>0.585938</td>\n",
       "      <td>0.007812</td>\n",
       "      <td>5.222497e-05</td>\n",
       "      <td>a=c</td>\n",
       "    </tr>\n",
       "    <tr>\n",
       "      <th>7</th>\n",
       "      <td>0.585938</td>\n",
       "      <td>0.589844</td>\n",
       "      <td>0.589844</td>\n",
       "      <td>0.003906</td>\n",
       "      <td>-6.547784e-06</td>\n",
       "      <td>b=c</td>\n",
       "    </tr>\n",
       "    <tr>\n",
       "      <th>8</th>\n",
       "      <td>0.587891</td>\n",
       "      <td>0.589844</td>\n",
       "      <td>0.587891</td>\n",
       "      <td>0.001953</td>\n",
       "      <td>3.209554e-06</td>\n",
       "      <td>a=c</td>\n",
       "    </tr>\n",
       "    <tr>\n",
       "      <th>9</th>\n",
       "      <td>0.587891</td>\n",
       "      <td>0.588867</td>\n",
       "      <td>0.588867</td>\n",
       "      <td>0.000977</td>\n",
       "      <td>-4.131240e-07</td>\n",
       "      <td>b=c</td>\n",
       "    </tr>\n",
       "    <tr>\n",
       "      <th>10</th>\n",
       "      <td>0.588379</td>\n",
       "      <td>0.588867</td>\n",
       "      <td>0.588379</td>\n",
       "      <td>0.000488</td>\n",
       "      <td>1.900664e-07</td>\n",
       "      <td>a=c</td>\n",
       "    </tr>\n",
       "    <tr>\n",
       "      <th>11</th>\n",
       "      <td>0.588379</td>\n",
       "      <td>0.588623</td>\n",
       "      <td>0.588623</td>\n",
       "      <td>0.000244</td>\n",
       "      <td>-2.672171e-08</td>\n",
       "      <td>b=c</td>\n",
       "    </tr>\n",
       "    <tr>\n",
       "      <th>12</th>\n",
       "      <td>0.588501</td>\n",
       "      <td>0.588623</td>\n",
       "      <td>0.588501</td>\n",
       "      <td>0.000122</td>\n",
       "      <td>9.400819e-09</td>\n",
       "      <td>a=c</td>\n",
       "    </tr>\n",
       "  </tbody>\n",
       "</table>\n",
       "</div>"
      ],
      "text/plain": [
       "           a         b         c       b-c     f(a)*f(c) Assign\n",
       "0   0.500000         1  0.500000  0.500000  1.271051e-01    a=c\n",
       "1   0.500000      0.75  0.750000  0.250000 -2.659957e-02    b=c\n",
       "2   0.500000     0.625  0.625000  0.125000 -6.334391e-03    b=c\n",
       "3   0.562500     0.625  0.562500  0.062500  4.636814e-03    a=c\n",
       "4   0.562500   0.59375  0.593750  0.031250 -2.634115e-04    b=c\n",
       "5   0.578125   0.59375  0.578125  0.015625  5.287635e-04    a=c\n",
       "6   0.585938   0.59375  0.585938  0.007812  5.222497e-05    a=c\n",
       "7   0.585938  0.589844  0.589844  0.003906 -6.547784e-06    b=c\n",
       "8   0.587891  0.589844  0.587891  0.001953  3.209554e-06    a=c\n",
       "9   0.587891  0.588867  0.588867  0.000977 -4.131240e-07    b=c\n",
       "10  0.588379  0.588867  0.588379  0.000488  1.900664e-07    a=c\n",
       "11  0.588379  0.588623  0.588623  0.000244 -2.672171e-08    b=c\n",
       "12  0.588501  0.588623  0.588501  0.000122  9.400819e-09    a=c"
      ]
     },
     "execution_count": 128,
     "metadata": {},
     "output_type": "execute_result"
    }
   ],
   "source": [
    "a , n , arr , table = bissection(0,1,0.0001,6)\n",
    "iterations(n,arr,\"6_1\")\n",
    "print(str(a) + \"\\n\" + str(func(a,6)))\n",
    "table"
   ]
  },
  {
   "cell_type": "code",
   "execution_count": 129,
   "metadata": {
    "colab": {
     "base_uri": "https://localhost:8080/",
     "height": 830
    },
    "colab_type": "code",
    "id": "K0CE-RZ8Nz_4",
    "outputId": "87222ccb-cb7c-45e3-fdcc-e0889afa1d5d"
   },
   "outputs": [
    {
     "data": {
      "image/png": "[encoded data removed]",
      "text/plain": [
       "<Figure size 432x288 with 1 Axes>"
      ]
     },
     "metadata": {
      "needs_background": "light"
     },
     "output_type": "display_data"
    },
    {
     "name": "stdout",
     "output_type": "stream",
     "text": [
      "3.09637451171875\n",
      "1.0090168837802171e-05\n"
     ]
    },
    {
     "data": {
      "text/html": [
       "<div>\n",
       "<style scoped>\n",
       "    .dataframe tbody tr th:only-of-type {\n",
       "        vertical-align: middle;\n",
       "    }\n",
       "\n",
       "    .dataframe tbody tr th {\n",
       "        vertical-align: top;\n",
       "    }\n",
       "\n",
       "    .dataframe thead th {\n",
       "        text-align: right;\n",
       "    }\n",
       "</style>\n",
       "<table border=\"1\" class=\"dataframe\">\n",
       "  <thead>\n",
       "    <tr style=\"text-align: right;\">\n",
       "      <th></th>\n",
       "      <th>a</th>\n",
       "      <th>b</th>\n",
       "      <th>c</th>\n",
       "      <th>b-c</th>\n",
       "      <th>f(a)*f(c)</th>\n",
       "      <th>Assign</th>\n",
       "    </tr>\n",
       "  </thead>\n",
       "  <tbody>\n",
       "    <tr>\n",
       "      <th>0</th>\n",
       "      <td>3</td>\n",
       "      <td>3.500000</td>\n",
       "      <td>3.500000</td>\n",
       "      <td>0.500000</td>\n",
       "      <td>-3.479608e-02</td>\n",
       "      <td>b=c</td>\n",
       "    </tr>\n",
       "    <tr>\n",
       "      <th>1</th>\n",
       "      <td>3</td>\n",
       "      <td>3.250000</td>\n",
       "      <td>3.250000</td>\n",
       "      <td>0.250000</td>\n",
       "      <td>-1.342314e-02</td>\n",
       "      <td>b=c</td>\n",
       "    </tr>\n",
       "    <tr>\n",
       "      <th>2</th>\n",
       "      <td>3</td>\n",
       "      <td>3.125000</td>\n",
       "      <td>3.125000</td>\n",
       "      <td>0.125000</td>\n",
       "      <td>-2.497503e-03</td>\n",
       "      <td>b=c</td>\n",
       "    </tr>\n",
       "    <tr>\n",
       "      <th>3</th>\n",
       "      <td>3.0625</td>\n",
       "      <td>3.125000</td>\n",
       "      <td>3.062500</td>\n",
       "      <td>0.062500</td>\n",
       "      <td>2.944537e-03</td>\n",
       "      <td>a=c</td>\n",
       "    </tr>\n",
       "    <tr>\n",
       "      <th>4</th>\n",
       "      <td>3.09375</td>\n",
       "      <td>3.125000</td>\n",
       "      <td>3.093750</td>\n",
       "      <td>0.031250</td>\n",
       "      <td>8.036566e-05</td>\n",
       "      <td>a=c</td>\n",
       "    </tr>\n",
       "    <tr>\n",
       "      <th>5</th>\n",
       "      <td>3.09375</td>\n",
       "      <td>3.109375</td>\n",
       "      <td>3.109375</td>\n",
       "      <td>0.015625</td>\n",
       "      <td>-3.095203e-05</td>\n",
       "      <td>b=c</td>\n",
       "    </tr>\n",
       "    <tr>\n",
       "      <th>6</th>\n",
       "      <td>3.09375</td>\n",
       "      <td>3.101562</td>\n",
       "      <td>3.101562</td>\n",
       "      <td>0.007812</td>\n",
       "      <td>-1.236262e-05</td>\n",
       "      <td>b=c</td>\n",
       "    </tr>\n",
       "    <tr>\n",
       "      <th>7</th>\n",
       "      <td>3.09375</td>\n",
       "      <td>3.097656</td>\n",
       "      <td>3.097656</td>\n",
       "      <td>0.003906</td>\n",
       "      <td>-3.072682e-06</td>\n",
       "      <td>b=c</td>\n",
       "    </tr>\n",
       "    <tr>\n",
       "      <th>8</th>\n",
       "      <td>3.0957</td>\n",
       "      <td>3.097656</td>\n",
       "      <td>3.095703</td>\n",
       "      <td>0.001953</td>\n",
       "      <td>1.571025e-06</td>\n",
       "      <td>a=c</td>\n",
       "    </tr>\n",
       "    <tr>\n",
       "      <th>9</th>\n",
       "      <td>3.0957</td>\n",
       "      <td>3.096680</td>\n",
       "      <td>3.096680</td>\n",
       "      <td>0.000977</td>\n",
       "      <td>-1.898017e-07</td>\n",
       "      <td>b=c</td>\n",
       "    </tr>\n",
       "    <tr>\n",
       "      <th>10</th>\n",
       "      <td>3.09619</td>\n",
       "      <td>3.096680</td>\n",
       "      <td>3.096191</td>\n",
       "      <td>0.000488</td>\n",
       "      <td>1.037038e-07</td>\n",
       "      <td>a=c</td>\n",
       "    </tr>\n",
       "    <tr>\n",
       "      <th>11</th>\n",
       "      <td>3.09619</td>\n",
       "      <td>3.096436</td>\n",
       "      <td>3.096436</td>\n",
       "      <td>0.000244</td>\n",
       "      <td>-1.123920e-08</td>\n",
       "      <td>b=c</td>\n",
       "    </tr>\n",
       "    <tr>\n",
       "      <th>12</th>\n",
       "      <td>3.09631</td>\n",
       "      <td>3.096436</td>\n",
       "      <td>3.096313</td>\n",
       "      <td>0.000122</td>\n",
       "      <td>7.918516e-09</td>\n",
       "      <td>a=c</td>\n",
       "    </tr>\n",
       "  </tbody>\n",
       "</table>\n",
       "</div>"
      ],
      "text/plain": [
       "          a         b         c       b-c     f(a)*f(c) Assign\n",
       "0         3  3.500000  3.500000  0.500000 -3.479608e-02    b=c\n",
       "1         3  3.250000  3.250000  0.250000 -1.342314e-02    b=c\n",
       "2         3  3.125000  3.125000  0.125000 -2.497503e-03    b=c\n",
       "3    3.0625  3.125000  3.062500  0.062500  2.944537e-03    a=c\n",
       "4   3.09375  3.125000  3.093750  0.031250  8.036566e-05    a=c\n",
       "5   3.09375  3.109375  3.109375  0.015625 -3.095203e-05    b=c\n",
       "6   3.09375  3.101562  3.101562  0.007812 -1.236262e-05    b=c\n",
       "7   3.09375  3.097656  3.097656  0.003906 -3.072682e-06    b=c\n",
       "8    3.0957  3.097656  3.095703  0.001953  1.571025e-06    a=c\n",
       "9    3.0957  3.096680  3.096680  0.000977 -1.898017e-07    b=c\n",
       "10  3.09619  3.096680  3.096191  0.000488  1.037038e-07    a=c\n",
       "11  3.09619  3.096436  3.096436  0.000244 -1.123920e-08    b=c\n",
       "12  3.09631  3.096436  3.096313  0.000122  7.918516e-09    a=c"
      ]
     },
     "execution_count": 129,
     "metadata": {},
     "output_type": "execute_result"
    }
   ],
   "source": [
    "a , n , arr , table = bissection(3,4,0.0001,6)\n",
    "iterations(n,arr,\"6_2\")\n",
    "print(str(a) + \"\\n\" + str(func(a,6)))\n",
    "table"
   ]
  },
  {
   "cell_type": "code",
   "execution_count": 130,
   "metadata": {
    "colab": {
     "base_uri": "https://localhost:8080/",
     "height": 705
    },
    "colab_type": "code",
    "id": "kLjKJ851AVk8",
    "outputId": "b3f980a6-85a9-49a0-8eae-881e309f9805"
   },
   "outputs": [
    {
     "data": {
      "image/png": "[encoded data removed]",
      "text/plain": [
       "<Figure size 432x288 with 1 Axes>"
      ]
     },
     "metadata": {
      "needs_background": "light"
     },
     "output_type": "display_data"
    },
    {
     "data": {
      "image/png": "[encoded data removed]",
      "text/plain": [
       "<Figure size 432x288 with 1 Axes>"
      ]
     },
     "metadata": {
      "needs_background": "light"
     },
     "output_type": "display_data"
    }
   ],
   "source": [
    "x = np.arange(-2,4,0.001)\n",
    "plt.plot(x,x**3,label='$x^3$')\n",
    "plt.plot(x,2*x+2,label='$2x + 2$')\n",
    "graph(\"7_1\")\n",
    "plt.plot(x,x**3 - 2*x - 2,label='$x^3 - 2x - 2$')\n",
    "graph(\"7_2\")"
   ]
  },
  {
   "cell_type": "code",
   "execution_count": 131,
   "metadata": {
    "colab": {
     "base_uri": "https://localhost:8080/",
     "height": 830
    },
    "colab_type": "code",
    "id": "RduOjw_pArM8",
    "outputId": "c7777d71-5037-4fce-8688-f1533f89d914"
   },
   "outputs": [
    {
     "data": {
      "image/png": "[encoded data removed]",
      "text/plain": [
       "<Figure size 432x288 with 1 Axes>"
      ]
     },
     "metadata": {
      "needs_background": "light"
     },
     "output_type": "display_data"
    },
    {
     "name": "stdout",
     "output_type": "stream",
     "text": [
      "1.76934814453125\n",
      "0.00041237296795770817\n"
     ]
    },
    {
     "data": {
      "text/html": [
       "<div>\n",
       "<style scoped>\n",
       "    .dataframe tbody tr th:only-of-type {\n",
       "        vertical-align: middle;\n",
       "    }\n",
       "\n",
       "    .dataframe tbody tr th {\n",
       "        vertical-align: top;\n",
       "    }\n",
       "\n",
       "    .dataframe thead th {\n",
       "        text-align: right;\n",
       "    }\n",
       "</style>\n",
       "<table border=\"1\" class=\"dataframe\">\n",
       "  <thead>\n",
       "    <tr style=\"text-align: right;\">\n",
       "      <th></th>\n",
       "      <th>a</th>\n",
       "      <th>b</th>\n",
       "      <th>c</th>\n",
       "      <th>b-c</th>\n",
       "      <th>f(a)*f(c)</th>\n",
       "      <th>Assign</th>\n",
       "    </tr>\n",
       "  </thead>\n",
       "  <tbody>\n",
       "    <tr>\n",
       "      <th>0</th>\n",
       "      <td>1.500000</td>\n",
       "      <td>2</td>\n",
       "      <td>1.500000</td>\n",
       "      <td>0.500000</td>\n",
       "      <td>4.875000e+00</td>\n",
       "      <td>a=c</td>\n",
       "    </tr>\n",
       "    <tr>\n",
       "      <th>1</th>\n",
       "      <td>1.750000</td>\n",
       "      <td>2</td>\n",
       "      <td>1.750000</td>\n",
       "      <td>0.250000</td>\n",
       "      <td>2.285156e-01</td>\n",
       "      <td>a=c</td>\n",
       "    </tr>\n",
       "    <tr>\n",
       "      <th>2</th>\n",
       "      <td>1.750000</td>\n",
       "      <td>1.875</td>\n",
       "      <td>1.875000</td>\n",
       "      <td>0.125000</td>\n",
       "      <td>-1.183777e-01</td>\n",
       "      <td>b=c</td>\n",
       "    </tr>\n",
       "    <tr>\n",
       "      <th>3</th>\n",
       "      <td>1.750000</td>\n",
       "      <td>1.8125</td>\n",
       "      <td>1.812500</td>\n",
       "      <td>0.062500</td>\n",
       "      <td>-4.631424e-02</td>\n",
       "      <td>b=c</td>\n",
       "    </tr>\n",
       "    <tr>\n",
       "      <th>4</th>\n",
       "      <td>1.750000</td>\n",
       "      <td>1.78125</td>\n",
       "      <td>1.781250</td>\n",
       "      <td>0.031250</td>\n",
       "      <td>-1.253557e-02</td>\n",
       "      <td>b=c</td>\n",
       "    </tr>\n",
       "    <tr>\n",
       "      <th>5</th>\n",
       "      <td>1.765625</td>\n",
       "      <td>1.78125</td>\n",
       "      <td>1.765625</td>\n",
       "      <td>0.015625</td>\n",
       "      <td>3.801763e-03</td>\n",
       "      <td>a=c</td>\n",
       "    </tr>\n",
       "    <tr>\n",
       "      <th>6</th>\n",
       "      <td>1.765625</td>\n",
       "      <td>1.77344</td>\n",
       "      <td>1.773438</td>\n",
       "      <td>0.007812</td>\n",
       "      <td>-8.307462e-04</td>\n",
       "      <td>b=c</td>\n",
       "    </tr>\n",
       "    <tr>\n",
       "      <th>7</th>\n",
       "      <td>1.765625</td>\n",
       "      <td>1.76953</td>\n",
       "      <td>1.769531</td>\n",
       "      <td>0.003906</td>\n",
       "      <td>-4.774409e-05</td>\n",
       "      <td>b=c</td>\n",
       "    </tr>\n",
       "    <tr>\n",
       "      <th>8</th>\n",
       "      <td>1.767578</td>\n",
       "      <td>1.76953</td>\n",
       "      <td>1.767578</td>\n",
       "      <td>0.001953</td>\n",
       "      <td>3.421139e-04</td>\n",
       "      <td>a=c</td>\n",
       "    </tr>\n",
       "    <tr>\n",
       "      <th>9</th>\n",
       "      <td>1.768555</td>\n",
       "      <td>1.76953</td>\n",
       "      <td>1.768555</td>\n",
       "      <td>0.000977</td>\n",
       "      <td>6.895925e-05</td>\n",
       "      <td>a=c</td>\n",
       "    </tr>\n",
       "    <tr>\n",
       "      <th>10</th>\n",
       "      <td>1.769043</td>\n",
       "      <td>1.76953</td>\n",
       "      <td>1.769043</td>\n",
       "      <td>0.000488</td>\n",
       "      <td>1.004273e-05</td>\n",
       "      <td>a=c</td>\n",
       "    </tr>\n",
       "    <tr>\n",
       "      <th>11</th>\n",
       "      <td>1.769287</td>\n",
       "      <td>1.76953</td>\n",
       "      <td>1.769287</td>\n",
       "      <td>0.000244</td>\n",
       "      <td>7.144211e-08</td>\n",
       "      <td>a=c</td>\n",
       "    </tr>\n",
       "    <tr>\n",
       "      <th>12</th>\n",
       "      <td>1.769287</td>\n",
       "      <td>1.76941</td>\n",
       "      <td>1.769409</td>\n",
       "      <td>0.000122</td>\n",
       "      <td>-3.347609e-08</td>\n",
       "      <td>b=c</td>\n",
       "    </tr>\n",
       "  </tbody>\n",
       "</table>\n",
       "</div>"
      ],
      "text/plain": [
       "           a        b         c       b-c     f(a)*f(c) Assign\n",
       "0   1.500000        2  1.500000  0.500000  4.875000e+00    a=c\n",
       "1   1.750000        2  1.750000  0.250000  2.285156e-01    a=c\n",
       "2   1.750000    1.875  1.875000  0.125000 -1.183777e-01    b=c\n",
       "3   1.750000   1.8125  1.812500  0.062500 -4.631424e-02    b=c\n",
       "4   1.750000  1.78125  1.781250  0.031250 -1.253557e-02    b=c\n",
       "5   1.765625  1.78125  1.765625  0.015625  3.801763e-03    a=c\n",
       "6   1.765625  1.77344  1.773438  0.007812 -8.307462e-04    b=c\n",
       "7   1.765625  1.76953  1.769531  0.003906 -4.774409e-05    b=c\n",
       "8   1.767578  1.76953  1.767578  0.001953  3.421139e-04    a=c\n",
       "9   1.768555  1.76953  1.768555  0.000977  6.895925e-05    a=c\n",
       "10  1.769043  1.76953  1.769043  0.000488  1.004273e-05    a=c\n",
       "11  1.769287  1.76953  1.769287  0.000244  7.144211e-08    a=c\n",
       "12  1.769287  1.76941  1.769409  0.000122 -3.347609e-08    b=c"
      ]
     },
     "execution_count": 131,
     "metadata": {},
     "output_type": "execute_result"
    }
   ],
   "source": [
    "a , n , arr , table = bissection(1,2,0.0001,7)\n",
    "iterations(n,arr,\"7_1\")\n",
    "print(str(a) + \"\\n\" + str(func(a,7)))\n",
    "table"
   ]
  },
  {
   "cell_type": "code",
   "execution_count": 132,
   "metadata": {
    "colab": {
     "base_uri": "https://localhost:8080/",
     "height": 705
    },
    "colab_type": "code",
    "id": "ylVZS1XzAy10",
    "outputId": "67e51302-2bbb-4a55-afde-8c4f963cb090"
   },
   "outputs": [
    {
     "data": {
      "image/png": "[encoded data removed]",
      "text/plain": [
       "<Figure size 432x288 with 1 Axes>"
      ]
     },
     "metadata": {
      "needs_background": "light"
     },
     "output_type": "display_data"
    },
    {
     "data": {
      "image/png": "[encoded data removed]",
      "text/plain": [
       "<Figure size 432x288 with 1 Axes>"
      ]
     },
     "metadata": {
      "needs_background": "light"
     },
     "output_type": "display_data"
    }
   ],
   "source": [
    "x = np.arange(-2,4,0.001)\n",
    "plt.plot(x,x**4,label='$x^4$')\n",
    "plt.plot(x,x+1,label='$x+1$')\n",
    "graph(\"8_1\")\n",
    "plt.plot(x,x**4 - x - 1,label='$x^4 - x - 1$')\n",
    "graph(\"8_2\")"
   ]
  },
  {
   "cell_type": "code",
   "execution_count": 133,
   "metadata": {
    "colab": {
     "base_uri": "https://localhost:8080/",
     "height": 830
    },
    "colab_type": "code",
    "id": "t9UrRqHnA73m",
    "outputId": "ecec8998-9d18-44d3-ed80-6d20fcbcce92"
   },
   "outputs": [
    {
     "data": {
      "image/png": "[encoded data removed]",
      "text/plain": [
       "<Figure size 432x288 with 1 Axes>"
      ]
     },
     "metadata": {
      "needs_background": "light"
     },
     "output_type": "display_data"
    },
    {
     "name": "stdout",
     "output_type": "stream",
     "text": [
      "-0.72454833984375\n",
      "0.00014215233488279466\n"
     ]
    },
    {
     "data": {
      "text/html": [
       "<div>\n",
       "<style scoped>\n",
       "    .dataframe tbody tr th:only-of-type {\n",
       "        vertical-align: middle;\n",
       "    }\n",
       "\n",
       "    .dataframe tbody tr th {\n",
       "        vertical-align: top;\n",
       "    }\n",
       "\n",
       "    .dataframe thead th {\n",
       "        text-align: right;\n",
       "    }\n",
       "</style>\n",
       "<table border=\"1\" class=\"dataframe\">\n",
       "  <thead>\n",
       "    <tr style=\"text-align: right;\">\n",
       "      <th></th>\n",
       "      <th>a</th>\n",
       "      <th>b</th>\n",
       "      <th>c</th>\n",
       "      <th>b-c</th>\n",
       "      <th>f(a)*f(c)</th>\n",
       "      <th>Assign</th>\n",
       "    </tr>\n",
       "  </thead>\n",
       "  <tbody>\n",
       "    <tr>\n",
       "      <th>0</th>\n",
       "      <td>-1</td>\n",
       "      <td>-0.500000</td>\n",
       "      <td>-0.500000</td>\n",
       "      <td>0.500000</td>\n",
       "      <td>-4.375000e-01</td>\n",
       "      <td>b=c</td>\n",
       "    </tr>\n",
       "    <tr>\n",
       "      <th>1</th>\n",
       "      <td>-0.75</td>\n",
       "      <td>-0.500000</td>\n",
       "      <td>-0.750000</td>\n",
       "      <td>0.250000</td>\n",
       "      <td>6.640625e-02</td>\n",
       "      <td>a=c</td>\n",
       "    </tr>\n",
       "    <tr>\n",
       "      <th>2</th>\n",
       "      <td>-0.75</td>\n",
       "      <td>-0.625000</td>\n",
       "      <td>-0.625000</td>\n",
       "      <td>0.125000</td>\n",
       "      <td>-1.476955e-02</td>\n",
       "      <td>b=c</td>\n",
       "    </tr>\n",
       "    <tr>\n",
       "      <th>3</th>\n",
       "      <td>-0.75</td>\n",
       "      <td>-0.687500</td>\n",
       "      <td>-0.687500</td>\n",
       "      <td>0.062500</td>\n",
       "      <td>-5.916536e-03</td>\n",
       "      <td>b=c</td>\n",
       "    </tr>\n",
       "    <tr>\n",
       "      <th>4</th>\n",
       "      <td>-0.75</td>\n",
       "      <td>-0.718750</td>\n",
       "      <td>-0.718750</td>\n",
       "      <td>0.031250</td>\n",
       "      <td>-9.544455e-04</td>\n",
       "      <td>b=c</td>\n",
       "    </tr>\n",
       "    <tr>\n",
       "      <th>5</th>\n",
       "      <td>-0.734375</td>\n",
       "      <td>-0.718750</td>\n",
       "      <td>-0.734375</td>\n",
       "      <td>0.015625</td>\n",
       "      <td>1.675207e-03</td>\n",
       "      <td>a=c</td>\n",
       "    </tr>\n",
       "    <tr>\n",
       "      <th>6</th>\n",
       "      <td>-0.726562</td>\n",
       "      <td>-0.718750</td>\n",
       "      <td>-0.726562</td>\n",
       "      <td>0.007812</td>\n",
       "      <td>1.320259e-04</td>\n",
       "      <td>a=c</td>\n",
       "    </tr>\n",
       "    <tr>\n",
       "      <th>7</th>\n",
       "      <td>-0.726562</td>\n",
       "      <td>-0.722656</td>\n",
       "      <td>-0.722656</td>\n",
       "      <td>0.003906</td>\n",
       "      <td>-2.416573e-05</td>\n",
       "      <td>b=c</td>\n",
       "    </tr>\n",
       "    <tr>\n",
       "      <th>8</th>\n",
       "      <td>-0.724609</td>\n",
       "      <td>-0.722656</td>\n",
       "      <td>-0.724609</td>\n",
       "      <td>0.001953</td>\n",
       "      <td>1.549468e-06</td>\n",
       "      <td>a=c</td>\n",
       "    </tr>\n",
       "    <tr>\n",
       "      <th>9</th>\n",
       "      <td>-0.724609</td>\n",
       "      <td>-0.723633</td>\n",
       "      <td>-0.723633</td>\n",
       "      <td>0.000977</td>\n",
       "      <td>-6.405837e-07</td>\n",
       "      <td>b=c</td>\n",
       "    </tr>\n",
       "    <tr>\n",
       "      <th>10</th>\n",
       "      <td>-0.724609</td>\n",
       "      <td>-0.724121</td>\n",
       "      <td>-0.724121</td>\n",
       "      <td>0.000488</td>\n",
       "      <td>-2.766876e-07</td>\n",
       "      <td>b=c</td>\n",
       "    </tr>\n",
       "    <tr>\n",
       "      <th>11</th>\n",
       "      <td>-0.724609</td>\n",
       "      <td>-0.724365</td>\n",
       "      <td>-0.724365</td>\n",
       "      <td>0.000244</td>\n",
       "      <td>-9.457295e-08</td>\n",
       "      <td>b=c</td>\n",
       "    </tr>\n",
       "    <tr>\n",
       "      <th>12</th>\n",
       "      <td>-0.724609</td>\n",
       "      <td>-0.724487</td>\n",
       "      <td>-0.724487</td>\n",
       "      <td>0.000122</td>\n",
       "      <td>-3.473983e-09</td>\n",
       "      <td>b=c</td>\n",
       "    </tr>\n",
       "  </tbody>\n",
       "</table>\n",
       "</div>"
      ],
      "text/plain": [
       "           a         b         c       b-c     f(a)*f(c) Assign\n",
       "0         -1 -0.500000 -0.500000  0.500000 -4.375000e-01    b=c\n",
       "1      -0.75 -0.500000 -0.750000  0.250000  6.640625e-02    a=c\n",
       "2      -0.75 -0.625000 -0.625000  0.125000 -1.476955e-02    b=c\n",
       "3      -0.75 -0.687500 -0.687500  0.062500 -5.916536e-03    b=c\n",
       "4      -0.75 -0.718750 -0.718750  0.031250 -9.544455e-04    b=c\n",
       "5  -0.734375 -0.718750 -0.734375  0.015625  1.675207e-03    a=c\n",
       "6  -0.726562 -0.718750 -0.726562  0.007812  1.320259e-04    a=c\n",
       "7  -0.726562 -0.722656 -0.722656  0.003906 -2.416573e-05    b=c\n",
       "8  -0.724609 -0.722656 -0.724609  0.001953  1.549468e-06    a=c\n",
       "9  -0.724609 -0.723633 -0.723633  0.000977 -6.405837e-07    b=c\n",
       "10 -0.724609 -0.724121 -0.724121  0.000488 -2.766876e-07    b=c\n",
       "11 -0.724609 -0.724365 -0.724365  0.000244 -9.457295e-08    b=c\n",
       "12 -0.724609 -0.724487 -0.724487  0.000122 -3.473983e-09    b=c"
      ]
     },
     "execution_count": 133,
     "metadata": {},
     "output_type": "execute_result"
    }
   ],
   "source": [
    "a , n , arr , table = bissection(-1,0,0.0001,8)\n",
    "iterations(n,arr,\"8_1\")\n",
    "print(str(a) + \"\\n\" + str(func(a,8)))\n",
    "table"
   ]
  },
  {
   "cell_type": "code",
   "execution_count": 134,
   "metadata": {
    "colab": {
     "base_uri": "https://localhost:8080/",
     "height": 830
    },
    "colab_type": "code",
    "id": "YQauiH9VN9nM",
    "outputId": "35a64e66-e125-4fec-d036-4c4e51cd6a16"
   },
   "outputs": [
    {
     "data": {
      "image/png": "[encoded data removed]",
      "text/plain": [
       "<Figure size 432x288 with 1 Axes>"
      ]
     },
     "metadata": {
      "needs_background": "light"
     },
     "output_type": "display_data"
    },
    {
     "name": "stdout",
     "output_type": "stream",
     "text": [
      "1.22076416015625\n",
      "0.00012601161171410524\n"
     ]
    },
    {
     "data": {
      "text/html": [
       "<div>\n",
       "<style scoped>\n",
       "    .dataframe tbody tr th:only-of-type {\n",
       "        vertical-align: middle;\n",
       "    }\n",
       "\n",
       "    .dataframe tbody tr th {\n",
       "        vertical-align: top;\n",
       "    }\n",
       "\n",
       "    .dataframe thead th {\n",
       "        text-align: right;\n",
       "    }\n",
       "</style>\n",
       "<table border=\"1\" class=\"dataframe\">\n",
       "  <thead>\n",
       "    <tr style=\"text-align: right;\">\n",
       "      <th></th>\n",
       "      <th>a</th>\n",
       "      <th>b</th>\n",
       "      <th>c</th>\n",
       "      <th>b-c</th>\n",
       "      <th>f(a)*f(c)</th>\n",
       "      <th>Assign</th>\n",
       "    </tr>\n",
       "  </thead>\n",
       "  <tbody>\n",
       "    <tr>\n",
       "      <th>0</th>\n",
       "      <td>1</td>\n",
       "      <td>1.500000</td>\n",
       "      <td>1.500000</td>\n",
       "      <td>0.500000</td>\n",
       "      <td>-2.562500e+00</td>\n",
       "      <td>b=c</td>\n",
       "    </tr>\n",
       "    <tr>\n",
       "      <th>1</th>\n",
       "      <td>1</td>\n",
       "      <td>1.250000</td>\n",
       "      <td>1.250000</td>\n",
       "      <td>0.250000</td>\n",
       "      <td>-1.914062e-01</td>\n",
       "      <td>b=c</td>\n",
       "    </tr>\n",
       "    <tr>\n",
       "      <th>2</th>\n",
       "      <td>1.125</td>\n",
       "      <td>1.250000</td>\n",
       "      <td>1.125000</td>\n",
       "      <td>0.125000</td>\n",
       "      <td>5.231934e-01</td>\n",
       "      <td>a=c</td>\n",
       "    </tr>\n",
       "    <tr>\n",
       "      <th>3</th>\n",
       "      <td>1.1875</td>\n",
       "      <td>1.250000</td>\n",
       "      <td>1.187500</td>\n",
       "      <td>0.062500</td>\n",
       "      <td>1.040942e-01</td>\n",
       "      <td>a=c</td>\n",
       "    </tr>\n",
       "    <tr>\n",
       "      <th>4</th>\n",
       "      <td>1.21875</td>\n",
       "      <td>1.250000</td>\n",
       "      <td>1.218750</td>\n",
       "      <td>0.031250</td>\n",
       "      <td>2.483159e-03</td>\n",
       "      <td>a=c</td>\n",
       "    </tr>\n",
       "    <tr>\n",
       "      <th>5</th>\n",
       "      <td>1.21875</td>\n",
       "      <td>1.234375</td>\n",
       "      <td>1.234375</td>\n",
       "      <td>0.015625</td>\n",
       "      <td>-1.088704e-03</td>\n",
       "      <td>b=c</td>\n",
       "    </tr>\n",
       "    <tr>\n",
       "      <th>6</th>\n",
       "      <td>1.21875</td>\n",
       "      <td>1.226562</td>\n",
       "      <td>1.226562</td>\n",
       "      <td>0.007812</td>\n",
       "      <td>-4.595913e-04</td>\n",
       "      <td>b=c</td>\n",
       "    </tr>\n",
       "    <tr>\n",
       "      <th>7</th>\n",
       "      <td>1.21875</td>\n",
       "      <td>1.222656</td>\n",
       "      <td>1.222656</td>\n",
       "      <td>0.003906</td>\n",
       "      <td>-1.502031e-04</td>\n",
       "      <td>b=c</td>\n",
       "    </tr>\n",
       "    <tr>\n",
       "      <th>8</th>\n",
       "      <td>1.2207</td>\n",
       "      <td>1.222656</td>\n",
       "      <td>1.220703</td>\n",
       "      <td>0.001953</td>\n",
       "      <td>3.208495e-06</td>\n",
       "      <td>a=c</td>\n",
       "    </tr>\n",
       "    <tr>\n",
       "      <th>9</th>\n",
       "      <td>1.2207</td>\n",
       "      <td>1.221680</td>\n",
       "      <td>1.221680</td>\n",
       "      <td>0.000977</td>\n",
       "      <td>-1.511688e-06</td>\n",
       "      <td>b=c</td>\n",
       "    </tr>\n",
       "    <tr>\n",
       "      <th>10</th>\n",
       "      <td>1.2207</td>\n",
       "      <td>1.221191</td>\n",
       "      <td>1.221191</td>\n",
       "      <td>0.000488</td>\n",
       "      <td>-7.222515e-07</td>\n",
       "      <td>b=c</td>\n",
       "    </tr>\n",
       "    <tr>\n",
       "      <th>11</th>\n",
       "      <td>1.2207</td>\n",
       "      <td>1.220947</td>\n",
       "      <td>1.220947</td>\n",
       "      <td>0.000244</td>\n",
       "      <td>-3.279447e-07</td>\n",
       "      <td>b=c</td>\n",
       "    </tr>\n",
       "    <tr>\n",
       "      <th>12</th>\n",
       "      <td>1.2207</td>\n",
       "      <td>1.220825</td>\n",
       "      <td>1.220825</td>\n",
       "      <td>0.000122</td>\n",
       "      <td>-1.308941e-07</td>\n",
       "      <td>b=c</td>\n",
       "    </tr>\n",
       "  </tbody>\n",
       "</table>\n",
       "</div>"
      ],
      "text/plain": [
       "          a         b         c       b-c     f(a)*f(c) Assign\n",
       "0         1  1.500000  1.500000  0.500000 -2.562500e+00    b=c\n",
       "1         1  1.250000  1.250000  0.250000 -1.914062e-01    b=c\n",
       "2     1.125  1.250000  1.125000  0.125000  5.231934e-01    a=c\n",
       "3    1.1875  1.250000  1.187500  0.062500  1.040942e-01    a=c\n",
       "4   1.21875  1.250000  1.218750  0.031250  2.483159e-03    a=c\n",
       "5   1.21875  1.234375  1.234375  0.015625 -1.088704e-03    b=c\n",
       "6   1.21875  1.226562  1.226562  0.007812 -4.595913e-04    b=c\n",
       "7   1.21875  1.222656  1.222656  0.003906 -1.502031e-04    b=c\n",
       "8    1.2207  1.222656  1.220703  0.001953  3.208495e-06    a=c\n",
       "9    1.2207  1.221680  1.221680  0.000977 -1.511688e-06    b=c\n",
       "10   1.2207  1.221191  1.221191  0.000488 -7.222515e-07    b=c\n",
       "11   1.2207  1.220947  1.220947  0.000244 -3.279447e-07    b=c\n",
       "12   1.2207  1.220825  1.220825  0.000122 -1.308941e-07    b=c"
      ]
     },
     "execution_count": 134,
     "metadata": {},
     "output_type": "execute_result"
    }
   ],
   "source": [
    "a , n , arr , table = bissection(1,2,0.0001,8)\n",
    "iterations(n,arr,\"8_2\")\n",
    "print(str(a) + \"\\n\" + str(func(a,8)))\n",
    "table"
   ]
  },
  {
   "cell_type": "code",
   "execution_count": 135,
   "metadata": {
    "colab": {
     "base_uri": "https://localhost:8080/",
     "height": 705
    },
    "colab_type": "code",
    "id": "sIMS2TaUBF2Y",
    "outputId": "1c9c3332-4035-4a25-c2f1-6c76f3b41618"
   },
   "outputs": [
    {
     "data": {
      "image/png": "[encoded data removed]",
      "text/plain": [
       "<Figure size 432x288 with 1 Axes>"
      ]
     },
     "metadata": {
      "needs_background": "light"
     },
     "output_type": "display_data"
    },
    {
     "data": {
      "image/png": "[encoded data removed]",
      "text/plain": [
       "<Figure size 432x288 with 1 Axes>"
      ]
     },
     "metadata": {
      "needs_background": "light"
     },
     "output_type": "display_data"
    }
   ],
   "source": [
    "x = np.arange(-5,4,0.001)\n",
    "plt.plot(x,np.e**(x),label='$e^x$')\n",
    "plt.plot(x,x+2,label='$x+2$')\n",
    "graph(\"9_1\")\n",
    "plt.plot(x,np.e**(x) - x - 2,label='$e^2 - x - 2$')\n",
    "graph(\"9_2\")"
   ]
  },
  {
   "cell_type": "code",
   "execution_count": 136,
   "metadata": {
    "colab": {
     "base_uri": "https://localhost:8080/",
     "height": 830
    },
    "colab_type": "code",
    "id": "RGCcWGR7CyPQ",
    "outputId": "74502fe4-b311-4653-9b1d-2b3bf96de5c3"
   },
   "outputs": [
    {
     "data": {
      "image/png": "[encoded data removed]",
      "text/plain": [
       "<Figure size 432x288 with 1 Axes>"
      ]
     },
     "metadata": {
      "needs_background": "light"
     },
     "output_type": "display_data"
    },
    {
     "name": "stdout",
     "output_type": "stream",
     "text": [
      "1.14617919921875\n",
      "-3.0092328287878445e-05\n"
     ]
    },
    {
     "data": {
      "text/html": [
       "<div>\n",
       "<style scoped>\n",
       "    .dataframe tbody tr th:only-of-type {\n",
       "        vertical-align: middle;\n",
       "    }\n",
       "\n",
       "    .dataframe tbody tr th {\n",
       "        vertical-align: top;\n",
       "    }\n",
       "\n",
       "    .dataframe thead th {\n",
       "        text-align: right;\n",
       "    }\n",
       "</style>\n",
       "<table border=\"1\" class=\"dataframe\">\n",
       "  <thead>\n",
       "    <tr style=\"text-align: right;\">\n",
       "      <th></th>\n",
       "      <th>a</th>\n",
       "      <th>b</th>\n",
       "      <th>c</th>\n",
       "      <th>b-c</th>\n",
       "      <th>f(a)*f(c)</th>\n",
       "      <th>Assign</th>\n",
       "    </tr>\n",
       "  </thead>\n",
       "  <tbody>\n",
       "    <tr>\n",
       "      <th>0</th>\n",
       "      <td>1</td>\n",
       "      <td>1.500000</td>\n",
       "      <td>1.500000</td>\n",
       "      <td>0.500000</td>\n",
       "      <td>-2.765596e-01</td>\n",
       "      <td>b=c</td>\n",
       "    </tr>\n",
       "    <tr>\n",
       "      <th>1</th>\n",
       "      <td>1</td>\n",
       "      <td>1.250000</td>\n",
       "      <td>1.250000</td>\n",
       "      <td>0.250000</td>\n",
       "      <td>-6.770898e-02</td>\n",
       "      <td>b=c</td>\n",
       "    </tr>\n",
       "    <tr>\n",
       "      <th>2</th>\n",
       "      <td>1.125</td>\n",
       "      <td>1.250000</td>\n",
       "      <td>1.125000</td>\n",
       "      <td>0.125000</td>\n",
       "      <td>1.261623e-02</td>\n",
       "      <td>a=c</td>\n",
       "    </tr>\n",
       "    <tr>\n",
       "      <th>3</th>\n",
       "      <td>1.125</td>\n",
       "      <td>1.187500</td>\n",
       "      <td>1.187500</td>\n",
       "      <td>0.062500</td>\n",
       "      <td>-4.092005e-03</td>\n",
       "      <td>b=c</td>\n",
       "    </tr>\n",
       "    <tr>\n",
       "      <th>4</th>\n",
       "      <td>1.125</td>\n",
       "      <td>1.156250</td>\n",
       "      <td>1.156250</td>\n",
       "      <td>0.031250</td>\n",
       "      <td>-9.737392e-04</td>\n",
       "      <td>b=c</td>\n",
       "    </tr>\n",
       "    <tr>\n",
       "      <th>5</th>\n",
       "      <td>1.14062</td>\n",
       "      <td>1.156250</td>\n",
       "      <td>1.140625</td>\n",
       "      <td>0.015625</td>\n",
       "      <td>5.329998e-04</td>\n",
       "      <td>a=c</td>\n",
       "    </tr>\n",
       "    <tr>\n",
       "      <th>6</th>\n",
       "      <td>1.14062</td>\n",
       "      <td>1.148438</td>\n",
       "      <td>1.148438</td>\n",
       "      <td>0.007812</td>\n",
       "      <td>-5.742123e-05</td>\n",
       "      <td>b=c</td>\n",
       "    </tr>\n",
       "    <tr>\n",
       "      <th>7</th>\n",
       "      <td>1.14453</td>\n",
       "      <td>1.148438</td>\n",
       "      <td>1.144531</td>\n",
       "      <td>0.003906</td>\n",
       "      <td>4.240094e-05</td>\n",
       "      <td>a=c</td>\n",
       "    </tr>\n",
       "    <tr>\n",
       "      <th>8</th>\n",
       "      <td>1.14453</td>\n",
       "      <td>1.146484</td>\n",
       "      <td>1.146484</td>\n",
       "      <td>0.001953</td>\n",
       "      <td>-2.226629e-06</td>\n",
       "      <td>b=c</td>\n",
       "    </tr>\n",
       "    <tr>\n",
       "      <th>9</th>\n",
       "      <td>1.14551</td>\n",
       "      <td>1.146484</td>\n",
       "      <td>1.145508</td>\n",
       "      <td>0.000977</td>\n",
       "      <td>5.237969e-06</td>\n",
       "      <td>a=c</td>\n",
       "    </tr>\n",
       "    <tr>\n",
       "      <th>10</th>\n",
       "      <td>1.146</td>\n",
       "      <td>1.146484</td>\n",
       "      <td>1.145996</td>\n",
       "      <td>0.000488</td>\n",
       "      <td>6.219447e-07</td>\n",
       "      <td>a=c</td>\n",
       "    </tr>\n",
       "    <tr>\n",
       "      <th>11</th>\n",
       "      <td>1.146</td>\n",
       "      <td>1.146240</td>\n",
       "      <td>1.146240</td>\n",
       "      <td>0.000244</td>\n",
       "      <td>-4.268356e-08</td>\n",
       "      <td>b=c</td>\n",
       "    </tr>\n",
       "    <tr>\n",
       "      <th>12</th>\n",
       "      <td>1.14612</td>\n",
       "      <td>1.146240</td>\n",
       "      <td>1.146118</td>\n",
       "      <td>0.000122</td>\n",
       "      <td>6.813739e-08</td>\n",
       "      <td>a=c</td>\n",
       "    </tr>\n",
       "  </tbody>\n",
       "</table>\n",
       "</div>"
      ],
      "text/plain": [
       "          a         b         c       b-c     f(a)*f(c) Assign\n",
       "0         1  1.500000  1.500000  0.500000 -2.765596e-01    b=c\n",
       "1         1  1.250000  1.250000  0.250000 -6.770898e-02    b=c\n",
       "2     1.125  1.250000  1.125000  0.125000  1.261623e-02    a=c\n",
       "3     1.125  1.187500  1.187500  0.062500 -4.092005e-03    b=c\n",
       "4     1.125  1.156250  1.156250  0.031250 -9.737392e-04    b=c\n",
       "5   1.14062  1.156250  1.140625  0.015625  5.329998e-04    a=c\n",
       "6   1.14062  1.148438  1.148438  0.007812 -5.742123e-05    b=c\n",
       "7   1.14453  1.148438  1.144531  0.003906  4.240094e-05    a=c\n",
       "8   1.14453  1.146484  1.146484  0.001953 -2.226629e-06    b=c\n",
       "9   1.14551  1.146484  1.145508  0.000977  5.237969e-06    a=c\n",
       "10    1.146  1.146484  1.145996  0.000488  6.219447e-07    a=c\n",
       "11    1.146  1.146240  1.146240  0.000244 -4.268356e-08    b=c\n",
       "12  1.14612  1.146240  1.146118  0.000122  6.813739e-08    a=c"
      ]
     },
     "execution_count": 136,
     "metadata": {},
     "output_type": "execute_result"
    }
   ],
   "source": [
    "a , n , arr , table = bissection(1,2,0.0001,9)\n",
    "iterations(n,arr,\"9_1\") \n",
    "print(str(a) + \"\\n\" + str(func(a,9)))\n",
    "table"
   ]
  },
  {
   "cell_type": "code",
   "execution_count": 137,
   "metadata": {
    "colab": {
     "base_uri": "https://localhost:8080/",
     "height": 705
    },
    "colab_type": "code",
    "id": "SrH6jWfKDCCo",
    "outputId": "40407f55-d923-4769-f851-0d20cac54250"
   },
   "outputs": [
    {
     "data": {
      "image/png": "[encoded data removed]",
      "text/plain": [
       "<Figure size 432x288 with 1 Axes>"
      ]
     },
     "metadata": {
      "needs_background": "light"
     },
     "output_type": "display_data"
    },
    {
     "data": {
      "image/png": "[encoded data removed]",
      "text/plain": [
       "<Figure size 432x288 with 1 Axes>"
      ]
     },
     "metadata": {
      "needs_background": "light"
     },
     "output_type": "display_data"
    }
   ],
   "source": [
    "x = np.arange(-5,4,0.001)\n",
    "plt.plot(x,-np.sin(x),label='$-sin(x)$')\n",
    "plt.plot(x,1-x,label='$1 - x$')\n",
    "graph(\"10_1\")\n",
    "plt.plot(x,-np.sin(x) - 1 + x,label='$-sin(x) - 1 + x$')\n",
    "graph(\"10_2\")"
   ]
  },
  {
   "cell_type": "code",
   "execution_count": 138,
   "metadata": {
    "colab": {
     "base_uri": "https://localhost:8080/",
     "height": 861
    },
    "colab_type": "code",
    "id": "SFQwOtklDM8Q",
    "outputId": "8f0508f3-21fd-4ab4-f315-2a8086e949df"
   },
   "outputs": [
    {
     "data": {
      "image/png": "[encoded data removed]",
      "text/plain": [
       "<Figure size 432x288 with 1 Axes>"
      ]
     },
     "metadata": {
      "needs_background": "light"
     },
     "output_type": "display_data"
    },
    {
     "name": "stdout",
     "output_type": "stream",
     "text": [
      "1.93450927734375\n",
      "7.312140146575885e-05\n"
     ]
    },
    {
     "data": {
      "text/html": [
       "<div>\n",
       "<style scoped>\n",
       "    .dataframe tbody tr th:only-of-type {\n",
       "        vertical-align: middle;\n",
       "    }\n",
       "\n",
       "    .dataframe tbody tr th {\n",
       "        vertical-align: top;\n",
       "    }\n",
       "\n",
       "    .dataframe thead th {\n",
       "        text-align: right;\n",
       "    }\n",
       "</style>\n",
       "<table border=\"1\" class=\"dataframe\">\n",
       "  <thead>\n",
       "    <tr style=\"text-align: right;\">\n",
       "      <th></th>\n",
       "      <th>a</th>\n",
       "      <th>b</th>\n",
       "      <th>c</th>\n",
       "      <th>b-c</th>\n",
       "      <th>f(a)*f(c)</th>\n",
       "      <th>Assign</th>\n",
       "    </tr>\n",
       "  </thead>\n",
       "  <tbody>\n",
       "    <tr>\n",
       "      <th>0</th>\n",
       "      <td>1.000000</td>\n",
       "      <td>2</td>\n",
       "      <td>1.000000</td>\n",
       "      <td>1.000000</td>\n",
       "      <td>8.414710e-01</td>\n",
       "      <td>a=c</td>\n",
       "    </tr>\n",
       "    <tr>\n",
       "      <th>1</th>\n",
       "      <td>1.500000</td>\n",
       "      <td>2</td>\n",
       "      <td>1.500000</td>\n",
       "      <td>0.500000</td>\n",
       "      <td>4.186276e-01</td>\n",
       "      <td>a=c</td>\n",
       "    </tr>\n",
       "    <tr>\n",
       "      <th>2</th>\n",
       "      <td>1.750000</td>\n",
       "      <td>2</td>\n",
       "      <td>1.750000</td>\n",
       "      <td>0.250000</td>\n",
       "      <td>1.164068e-01</td>\n",
       "      <td>a=c</td>\n",
       "    </tr>\n",
       "    <tr>\n",
       "      <th>3</th>\n",
       "      <td>1.875000</td>\n",
       "      <td>2</td>\n",
       "      <td>1.875000</td>\n",
       "      <td>0.125000</td>\n",
       "      <td>1.850496e-02</td>\n",
       "      <td>a=c</td>\n",
       "    </tr>\n",
       "    <tr>\n",
       "      <th>4</th>\n",
       "      <td>1.875000</td>\n",
       "      <td>1.9375</td>\n",
       "      <td>1.937500</td>\n",
       "      <td>0.062500</td>\n",
       "      <td>-3.152137e-04</td>\n",
       "      <td>b=c</td>\n",
       "    </tr>\n",
       "    <tr>\n",
       "      <th>5</th>\n",
       "      <td>1.906250</td>\n",
       "      <td>1.9375</td>\n",
       "      <td>1.906250</td>\n",
       "      <td>0.031250</td>\n",
       "      <td>3.006134e-03</td>\n",
       "      <td>a=c</td>\n",
       "    </tr>\n",
       "    <tr>\n",
       "      <th>6</th>\n",
       "      <td>1.921875</td>\n",
       "      <td>1.9375</td>\n",
       "      <td>1.921875</td>\n",
       "      <td>0.015625</td>\n",
       "      <td>6.510265e-04</td>\n",
       "      <td>a=c</td>\n",
       "    </tr>\n",
       "    <tr>\n",
       "      <th>7</th>\n",
       "      <td>1.929688</td>\n",
       "      <td>1.9375</td>\n",
       "      <td>1.929688</td>\n",
       "      <td>0.007812</td>\n",
       "      <td>1.130292e-04</td>\n",
       "      <td>a=c</td>\n",
       "    </tr>\n",
       "    <tr>\n",
       "      <th>8</th>\n",
       "      <td>1.933594</td>\n",
       "      <td>1.9375</td>\n",
       "      <td>1.933594</td>\n",
       "      <td>0.003906</td>\n",
       "      <td>8.671247e-06</td>\n",
       "      <td>a=c</td>\n",
       "    </tr>\n",
       "    <tr>\n",
       "      <th>9</th>\n",
       "      <td>1.933594</td>\n",
       "      <td>1.93555</td>\n",
       "      <td>1.935547</td>\n",
       "      <td>0.001953</td>\n",
       "      <td>-1.752946e-06</td>\n",
       "      <td>b=c</td>\n",
       "    </tr>\n",
       "    <tr>\n",
       "      <th>10</th>\n",
       "      <td>1.933594</td>\n",
       "      <td>1.93457</td>\n",
       "      <td>1.934570</td>\n",
       "      <td>0.000977</td>\n",
       "      <td>-1.265147e-08</td>\n",
       "      <td>b=c</td>\n",
       "    </tr>\n",
       "    <tr>\n",
       "      <th>11</th>\n",
       "      <td>1.934082</td>\n",
       "      <td>1.93457</td>\n",
       "      <td>1.934082</td>\n",
       "      <td>0.000488</td>\n",
       "      <td>8.570568e-07</td>\n",
       "      <td>a=c</td>\n",
       "    </tr>\n",
       "    <tr>\n",
       "      <th>12</th>\n",
       "      <td>1.934326</td>\n",
       "      <td>1.93457</td>\n",
       "      <td>1.934326</td>\n",
       "      <td>0.000244</td>\n",
       "      <td>2.096084e-07</td>\n",
       "      <td>a=c</td>\n",
       "    </tr>\n",
       "    <tr>\n",
       "      <th>13</th>\n",
       "      <td>1.934448</td>\n",
       "      <td>1.93457</td>\n",
       "      <td>1.934448</td>\n",
       "      <td>0.000122</td>\n",
       "      <td>5.008820e-08</td>\n",
       "      <td>a=c</td>\n",
       "    </tr>\n",
       "  </tbody>\n",
       "</table>\n",
       "</div>"
      ],
      "text/plain": [
       "           a        b         c       b-c     f(a)*f(c) Assign\n",
       "0   1.000000        2  1.000000  1.000000  8.414710e-01    a=c\n",
       "1   1.500000        2  1.500000  0.500000  4.186276e-01    a=c\n",
       "2   1.750000        2  1.750000  0.250000  1.164068e-01    a=c\n",
       "3   1.875000        2  1.875000  0.125000  1.850496e-02    a=c\n",
       "4   1.875000   1.9375  1.937500  0.062500 -3.152137e-04    b=c\n",
       "5   1.906250   1.9375  1.906250  0.031250  3.006134e-03    a=c\n",
       "6   1.921875   1.9375  1.921875  0.015625  6.510265e-04    a=c\n",
       "7   1.929688   1.9375  1.929688  0.007812  1.130292e-04    a=c\n",
       "8   1.933594   1.9375  1.933594  0.003906  8.671247e-06    a=c\n",
       "9   1.933594  1.93555  1.935547  0.001953 -1.752946e-06    b=c\n",
       "10  1.933594  1.93457  1.934570  0.000977 -1.265147e-08    b=c\n",
       "11  1.934082  1.93457  1.934082  0.000488  8.570568e-07    a=c\n",
       "12  1.934326  1.93457  1.934326  0.000244  2.096084e-07    a=c\n",
       "13  1.934448  1.93457  1.934448  0.000122  5.008820e-08    a=c"
      ]
     },
     "execution_count": 138,
     "metadata": {},
     "output_type": "execute_result"
    }
   ],
   "source": [
    "a , n , arr , table = bissection(0,2,0.0001,10)\n",
    "iterations(n,arr,\"10_1\")\n",
    "print(str(a) + \"\\n\" + str(func(a,10)))\n",
    "table"
   ]
  },
  {
   "cell_type": "code",
   "execution_count": 12,
   "metadata": {
    "colab": {
     "base_uri": "https://localhost:8080/",
     "height": 713
    },
    "colab_type": "code",
    "id": "RVyJHsnEDmfO",
    "outputId": "3e259c63-d316-402c-c4df-72037154171b"
   },
   "outputs": [
    {
     "data": {
      "image/png": "[encoded data removed]",
      "text/plain": [
       "<Figure size 432x288 with 1 Axes>"
      ]
     },
     "metadata": {
      "needs_background": "light"
     },
     "output_type": "display_data"
    },
    {
     "data": {
      "image/png": "[encoded data removed]",
      "text/plain": [
       "<Figure size 432x288 with 1 Axes>"
      ]
     },
     "metadata": {
      "needs_background": "light"
     },
     "output_type": "display_data"
    }
   ],
   "source": [
    "x = np.arange(-10,10,.001)\n",
    "plt.plot(x, np.tan(x),label='$tan(x)$')\n",
    "plt.plot(x, x,label='$x$')\n",
    "graph(\"11_1\")\n",
    "plt.plot(x, np.tan(x) - x,label='$x - tan(x)$')\n",
    "graph(\"11_2\")"
   ]
  },
  {
   "cell_type": "code",
   "execution_count": 140,
   "metadata": {
    "colab": {
     "base_uri": "https://localhost:8080/",
     "height": 830
    },
    "colab_type": "code",
    "id": "2_jVeWHUD0Gu",
    "outputId": "d70db912-1b4e-4aa7-ef93-9e285ec3a047"
   },
   "outputs": [
    {
     "data": {
      "image/png": "[encoded data removed]",
      "text/plain": [
       "<Figure size 432x288 with 1 Axes>"
      ]
     },
     "metadata": {
      "needs_background": "light"
     },
     "output_type": "display_data"
    },
    {
     "name": "stdout",
     "output_type": "stream",
     "text": [
      "4.49346923828125\n",
      "-0.0012073496428532948\n"
     ]
    },
    {
     "data": {
      "text/html": [
       "<div>\n",
       "<style scoped>\n",
       "    .dataframe tbody tr th:only-of-type {\n",
       "        vertical-align: middle;\n",
       "    }\n",
       "\n",
       "    .dataframe tbody tr th {\n",
       "        vertical-align: top;\n",
       "    }\n",
       "\n",
       "    .dataframe thead th {\n",
       "        text-align: right;\n",
       "    }\n",
       "</style>\n",
       "<table border=\"1\" class=\"dataframe\">\n",
       "  <thead>\n",
       "    <tr style=\"text-align: right;\">\n",
       "      <th></th>\n",
       "      <th>a</th>\n",
       "      <th>b</th>\n",
       "      <th>c</th>\n",
       "      <th>b-c</th>\n",
       "      <th>f(a)*f(c)</th>\n",
       "      <th>Assign</th>\n",
       "    </tr>\n",
       "  </thead>\n",
       "  <tbody>\n",
       "    <tr>\n",
       "      <th>0</th>\n",
       "      <td>4</td>\n",
       "      <td>4.500000</td>\n",
       "      <td>4.500000</td>\n",
       "      <td>0.500000</td>\n",
       "      <td>-3.903222e-01</td>\n",
       "      <td>b=c</td>\n",
       "    </tr>\n",
       "    <tr>\n",
       "      <th>1</th>\n",
       "      <td>4.25</td>\n",
       "      <td>4.500000</td>\n",
       "      <td>4.250000</td>\n",
       "      <td>0.250000</td>\n",
       "      <td>6.376971e+00</td>\n",
       "      <td>a=c</td>\n",
       "    </tr>\n",
       "    <tr>\n",
       "      <th>2</th>\n",
       "      <td>4.375</td>\n",
       "      <td>4.500000</td>\n",
       "      <td>4.375000</td>\n",
       "      <td>0.125000</td>\n",
       "      <td>3.420255e+00</td>\n",
       "      <td>a=c</td>\n",
       "    </tr>\n",
       "    <tr>\n",
       "      <th>3</th>\n",
       "      <td>4.4375</td>\n",
       "      <td>4.500000</td>\n",
       "      <td>4.437500</td>\n",
       "      <td>0.062500</td>\n",
       "      <td>1.359392e+00</td>\n",
       "      <td>a=c</td>\n",
       "    </tr>\n",
       "    <tr>\n",
       "      <th>4</th>\n",
       "      <td>4.46875</td>\n",
       "      <td>4.500000</td>\n",
       "      <td>4.468750</td>\n",
       "      <td>0.031250</td>\n",
       "      <td>3.975946e-01</td>\n",
       "      <td>a=c</td>\n",
       "    </tr>\n",
       "    <tr>\n",
       "      <th>5</th>\n",
       "      <td>4.48438</td>\n",
       "      <td>4.500000</td>\n",
       "      <td>4.484375</td>\n",
       "      <td>0.015625</td>\n",
       "      <td>7.800122e-02</td>\n",
       "      <td>a=c</td>\n",
       "    </tr>\n",
       "    <tr>\n",
       "      <th>6</th>\n",
       "      <td>4.49219</td>\n",
       "      <td>4.500000</td>\n",
       "      <td>4.492188</td>\n",
       "      <td>0.007812</td>\n",
       "      <td>4.291630e-03</td>\n",
       "      <td>a=c</td>\n",
       "    </tr>\n",
       "    <tr>\n",
       "      <th>7</th>\n",
       "      <td>4.49219</td>\n",
       "      <td>4.496094</td>\n",
       "      <td>4.496094</td>\n",
       "      <td>0.003906</td>\n",
       "      <td>-1.346557e-03</td>\n",
       "      <td>b=c</td>\n",
       "    </tr>\n",
       "    <tr>\n",
       "      <th>8</th>\n",
       "      <td>4.49219</td>\n",
       "      <td>4.494141</td>\n",
       "      <td>4.494141</td>\n",
       "      <td>0.001953</td>\n",
       "      <td>-3.633966e-04</td>\n",
       "      <td>b=c</td>\n",
       "    </tr>\n",
       "    <tr>\n",
       "      <th>9</th>\n",
       "      <td>4.49316</td>\n",
       "      <td>4.494141</td>\n",
       "      <td>4.493164</td>\n",
       "      <td>0.000977</td>\n",
       "      <td>1.214027e-04</td>\n",
       "      <td>a=c</td>\n",
       "    </tr>\n",
       "    <tr>\n",
       "      <th>10</th>\n",
       "      <td>4.49316</td>\n",
       "      <td>4.493652</td>\n",
       "      <td>4.493652</td>\n",
       "      <td>0.000488</td>\n",
       "      <td>-2.429786e-05</td>\n",
       "      <td>b=c</td>\n",
       "    </tr>\n",
       "    <tr>\n",
       "      <th>11</th>\n",
       "      <td>4.49341</td>\n",
       "      <td>4.493652</td>\n",
       "      <td>4.493408</td>\n",
       "      <td>0.000244</td>\n",
       "      <td>1.253818e-07</td>\n",
       "      <td>a=c</td>\n",
       "    </tr>\n",
       "    <tr>\n",
       "      <th>12</th>\n",
       "      <td>4.49341</td>\n",
       "      <td>4.493530</td>\n",
       "      <td>4.493530</td>\n",
       "      <td>0.000122</td>\n",
       "      <td>-6.183590e-08</td>\n",
       "      <td>b=c</td>\n",
       "    </tr>\n",
       "  </tbody>\n",
       "</table>\n",
       "</div>"
      ],
      "text/plain": [
       "          a         b         c       b-c     f(a)*f(c) Assign\n",
       "0         4  4.500000  4.500000  0.500000 -3.903222e-01    b=c\n",
       "1      4.25  4.500000  4.250000  0.250000  6.376971e+00    a=c\n",
       "2     4.375  4.500000  4.375000  0.125000  3.420255e+00    a=c\n",
       "3    4.4375  4.500000  4.437500  0.062500  1.359392e+00    a=c\n",
       "4   4.46875  4.500000  4.468750  0.031250  3.975946e-01    a=c\n",
       "5   4.48438  4.500000  4.484375  0.015625  7.800122e-02    a=c\n",
       "6   4.49219  4.500000  4.492188  0.007812  4.291630e-03    a=c\n",
       "7   4.49219  4.496094  4.496094  0.003906 -1.346557e-03    b=c\n",
       "8   4.49219  4.494141  4.494141  0.001953 -3.633966e-04    b=c\n",
       "9   4.49316  4.494141  4.493164  0.000977  1.214027e-04    a=c\n",
       "10  4.49316  4.493652  4.493652  0.000488 -2.429786e-05    b=c\n",
       "11  4.49341  4.493652  4.493408  0.000244  1.253818e-07    a=c\n",
       "12  4.49341  4.493530  4.493530  0.000122 -6.183590e-08    b=c"
      ]
     },
     "execution_count": 140,
     "metadata": {},
     "output_type": "execute_result"
    }
   ],
   "source": [
    "a , n , arr , table = bissection(4,5,0.0001,11)\n",
    "iterations(n,arr,\"11_1\")\n",
    "print(str(a) + \"\\n\" + str(func(a,11)))\n",
    "table"
   ]
  },
  {
   "cell_type": "code",
   "execution_count": 141,
   "metadata": {
    "colab": {
     "base_uri": "https://localhost:8080/",
     "height": 985
    },
    "colab_type": "code",
    "id": "9Njs43WbOQCn",
    "outputId": "6b7f9858-4fc4-44ea-a675-edb60de6e8d3"
   },
   "outputs": [
    {
     "data": {
      "image/png": "[encoded data removed]",
      "text/plain": [
       "<Figure size 432x288 with 1 Axes>"
      ]
     },
     "metadata": {
      "needs_background": "light"
     },
     "output_type": "display_data"
    },
    {
     "name": "stdout",
     "output_type": "stream",
     "text": [
      "119.99992370605469\n",
      "119.28691578281351\n"
     ]
    },
    {
     "data": {
      "text/html": [
       "<div>\n",
       "<style scoped>\n",
       "    .dataframe tbody tr th:only-of-type {\n",
       "        vertical-align: middle;\n",
       "    }\n",
       "\n",
       "    .dataframe tbody tr th {\n",
       "        vertical-align: top;\n",
       "    }\n",
       "\n",
       "    .dataframe thead th {\n",
       "        text-align: right;\n",
       "    }\n",
       "</style>\n",
       "<table border=\"1\" class=\"dataframe\">\n",
       "  <thead>\n",
       "    <tr style=\"text-align: right;\">\n",
       "      <th></th>\n",
       "      <th>a</th>\n",
       "      <th>b</th>\n",
       "      <th>c</th>\n",
       "      <th>b-c</th>\n",
       "      <th>f(a)*f(c)</th>\n",
       "      <th>Assign</th>\n",
       "    </tr>\n",
       "  </thead>\n",
       "  <tbody>\n",
       "    <tr>\n",
       "      <th>0</th>\n",
       "      <td>100.000000</td>\n",
       "      <td>120</td>\n",
       "      <td>100.000000</td>\n",
       "      <td>20.000000</td>\n",
       "      <td>7141.324547</td>\n",
       "      <td>a=c</td>\n",
       "    </tr>\n",
       "    <tr>\n",
       "      <th>1</th>\n",
       "      <td>110.000000</td>\n",
       "      <td>120</td>\n",
       "      <td>110.000000</td>\n",
       "      <td>10.000000</td>\n",
       "      <td>11060.138921</td>\n",
       "      <td>a=c</td>\n",
       "    </tr>\n",
       "    <tr>\n",
       "      <th>2</th>\n",
       "      <td>115.000000</td>\n",
       "      <td>120</td>\n",
       "      <td>115.000000</td>\n",
       "      <td>5.000000</td>\n",
       "      <td>12963.976745</td>\n",
       "      <td>a=c</td>\n",
       "    </tr>\n",
       "    <tr>\n",
       "      <th>3</th>\n",
       "      <td>117.500000</td>\n",
       "      <td>120</td>\n",
       "      <td>117.500000</td>\n",
       "      <td>2.500000</td>\n",
       "      <td>13485.045900</td>\n",
       "      <td>a=c</td>\n",
       "    </tr>\n",
       "    <tr>\n",
       "      <th>4</th>\n",
       "      <td>118.750000</td>\n",
       "      <td>120</td>\n",
       "      <td>118.750000</td>\n",
       "      <td>1.250000</td>\n",
       "      <td>13665.542758</td>\n",
       "      <td>a=c</td>\n",
       "    </tr>\n",
       "    <tr>\n",
       "      <th>5</th>\n",
       "      <td>119.375000</td>\n",
       "      <td>120</td>\n",
       "      <td>119.375000</td>\n",
       "      <td>0.625000</td>\n",
       "      <td>14263.574220</td>\n",
       "      <td>a=c</td>\n",
       "    </tr>\n",
       "    <tr>\n",
       "      <th>6</th>\n",
       "      <td>119.687500</td>\n",
       "      <td>120</td>\n",
       "      <td>119.687500</td>\n",
       "      <td>0.312500</td>\n",
       "      <td>14250.512480</td>\n",
       "      <td>a=c</td>\n",
       "    </tr>\n",
       "    <tr>\n",
       "      <th>7</th>\n",
       "      <td>119.843750</td>\n",
       "      <td>120</td>\n",
       "      <td>119.843750</td>\n",
       "      <td>0.156250</td>\n",
       "      <td>14246.185544</td>\n",
       "      <td>a=c</td>\n",
       "    </tr>\n",
       "    <tr>\n",
       "      <th>8</th>\n",
       "      <td>119.921875</td>\n",
       "      <td>120</td>\n",
       "      <td>119.921875</td>\n",
       "      <td>0.078125</td>\n",
       "      <td>14240.230630</td>\n",
       "      <td>a=c</td>\n",
       "    </tr>\n",
       "    <tr>\n",
       "      <th>9</th>\n",
       "      <td>119.960938</td>\n",
       "      <td>120</td>\n",
       "      <td>119.960938</td>\n",
       "      <td>0.039062</td>\n",
       "      <td>14235.565245</td>\n",
       "      <td>a=c</td>\n",
       "    </tr>\n",
       "    <tr>\n",
       "      <th>10</th>\n",
       "      <td>119.980469</td>\n",
       "      <td>120</td>\n",
       "      <td>119.980469</td>\n",
       "      <td>0.019531</td>\n",
       "      <td>14232.678688</td>\n",
       "      <td>a=c</td>\n",
       "    </tr>\n",
       "    <tr>\n",
       "      <th>11</th>\n",
       "      <td>119.990234</td>\n",
       "      <td>120</td>\n",
       "      <td>119.990234</td>\n",
       "      <td>0.009766</td>\n",
       "      <td>14231.076352</td>\n",
       "      <td>a=c</td>\n",
       "    </tr>\n",
       "    <tr>\n",
       "      <th>12</th>\n",
       "      <td>119.995117</td>\n",
       "      <td>120</td>\n",
       "      <td>119.995117</td>\n",
       "      <td>0.004883</td>\n",
       "      <td>14230.232507</td>\n",
       "      <td>a=c</td>\n",
       "    </tr>\n",
       "    <tr>\n",
       "      <th>13</th>\n",
       "      <td>119.997559</td>\n",
       "      <td>120</td>\n",
       "      <td>119.997559</td>\n",
       "      <td>0.002441</td>\n",
       "      <td>14229.799527</td>\n",
       "      <td>a=c</td>\n",
       "    </tr>\n",
       "    <tr>\n",
       "      <th>14</th>\n",
       "      <td>119.998779</td>\n",
       "      <td>120</td>\n",
       "      <td>119.998779</td>\n",
       "      <td>0.001221</td>\n",
       "      <td>14229.580223</td>\n",
       "      <td>a=c</td>\n",
       "    </tr>\n",
       "    <tr>\n",
       "      <th>15</th>\n",
       "      <td>119.999390</td>\n",
       "      <td>120</td>\n",
       "      <td>119.999390</td>\n",
       "      <td>0.000610</td>\n",
       "      <td>14229.469860</td>\n",
       "      <td>a=c</td>\n",
       "    </tr>\n",
       "    <tr>\n",
       "      <th>16</th>\n",
       "      <td>119.999695</td>\n",
       "      <td>120</td>\n",
       "      <td>119.999695</td>\n",
       "      <td>0.000305</td>\n",
       "      <td>14229.414501</td>\n",
       "      <td>a=c</td>\n",
       "    </tr>\n",
       "    <tr>\n",
       "      <th>17</th>\n",
       "      <td>119.999847</td>\n",
       "      <td>120</td>\n",
       "      <td>119.999847</td>\n",
       "      <td>0.000153</td>\n",
       "      <td>14229.386776</td>\n",
       "      <td>a=c</td>\n",
       "    </tr>\n",
       "  </tbody>\n",
       "</table>\n",
       "</div>"
      ],
      "text/plain": [
       "             a    b           c        b-c     f(a)*f(c) Assign\n",
       "0   100.000000  120  100.000000  20.000000   7141.324547    a=c\n",
       "1   110.000000  120  110.000000  10.000000  11060.138921    a=c\n",
       "2   115.000000  120  115.000000   5.000000  12963.976745    a=c\n",
       "3   117.500000  120  117.500000   2.500000  13485.045900    a=c\n",
       "4   118.750000  120  118.750000   1.250000  13665.542758    a=c\n",
       "5   119.375000  120  119.375000   0.625000  14263.574220    a=c\n",
       "6   119.687500  120  119.687500   0.312500  14250.512480    a=c\n",
       "7   119.843750  120  119.843750   0.156250  14246.185544    a=c\n",
       "8   119.921875  120  119.921875   0.078125  14240.230630    a=c\n",
       "9   119.960938  120  119.960938   0.039062  14235.565245    a=c\n",
       "10  119.980469  120  119.980469   0.019531  14232.678688    a=c\n",
       "11  119.990234  120  119.990234   0.009766  14231.076352    a=c\n",
       "12  119.995117  120  119.995117   0.004883  14230.232507    a=c\n",
       "13  119.997559  120  119.997559   0.002441  14229.799527    a=c\n",
       "14  119.998779  120  119.998779   0.001221  14229.580223    a=c\n",
       "15  119.999390  120  119.999390   0.000610  14229.469860    a=c\n",
       "16  119.999695  120  119.999695   0.000305  14229.414501    a=c\n",
       "17  119.999847  120  119.999847   0.000153  14229.386776    a=c"
      ]
     },
     "execution_count": 141,
     "metadata": {},
     "output_type": "execute_result"
    }
   ],
   "source": [
    "a , n , arr , table = bissection(80,120,0.0001,11)\n",
    "iterations(n,arr,\"11_2\") \n",
    "print(str(a) + \"\\n\" + str(func(a,11)))\n",
    "table"
   ]
  },
  {
   "cell_type": "code",
   "execution_count": null,
   "metadata": {},
   "outputs": [],
   "source": []
  }
 ],
 "metadata": {
  "colab": {
   "include_colab_link": true,
   "name": "Set 3.ipynb",
   "provenance": [],
   "version": "0.3.2"
  },
  "kernelspec": {
   "display_name": "Python 3",
   "language": "python",
   "name": "python3"
  },
  "language_info": {
   "codemirror_mode": {
    "name": "ipython",
    "version": 3
   },
   "file_extension": ".py",
   "mimetype": "text/x-python",
   "name": "python",
   "nbconvert_exporter": "python",
   "pygments_lexer": "ipython3",
   "version": "3.6.5"
  }
 },
 "nbformat": 4,
 "nbformat_minor": 4
}
